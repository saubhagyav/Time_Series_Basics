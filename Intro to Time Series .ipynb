{
 "cells": [
  {
   "cell_type": "markdown",
   "id": "5d6c1156",
   "metadata": {},
   "source": [
    "## Importing the Packages"
   ]
  },
  {
   "cell_type": "code",
   "execution_count": 1,
   "id": "1ec93bdf",
   "metadata": {},
   "outputs": [],
   "source": [
    "import pandas as pd\n",
    "import numpy as np\n",
    "import matplotlib.pyplot as plt\n",
    "import seaborn as sns\n",
    "%matplotlib inline"
   ]
  },
  {
   "cell_type": "markdown",
   "id": "9ebe79a1",
   "metadata": {},
   "source": [
    "## Importing Dataset\n"
   ]
  },
  {
   "cell_type": "code",
   "execution_count": 2,
   "id": "bb5af4e3",
   "metadata": {},
   "outputs": [],
   "source": [
    "df = pd.read_csv('Index2018.csv')"
   ]
  },
  {
   "cell_type": "code",
   "execution_count": 3,
   "id": "90044f13",
   "metadata": {},
   "outputs": [
    {
     "data": {
      "text/html": [
       "<div>\n",
       "<style scoped>\n",
       "    .dataframe tbody tr th:only-of-type {\n",
       "        vertical-align: middle;\n",
       "    }\n",
       "\n",
       "    .dataframe tbody tr th {\n",
       "        vertical-align: top;\n",
       "    }\n",
       "\n",
       "    .dataframe thead th {\n",
       "        text-align: right;\n",
       "    }\n",
       "</style>\n",
       "<table border=\"1\" class=\"dataframe\">\n",
       "  <thead>\n",
       "    <tr style=\"text-align: right;\">\n",
       "      <th></th>\n",
       "      <th>date</th>\n",
       "      <th>spx</th>\n",
       "      <th>dax</th>\n",
       "      <th>ftse</th>\n",
       "      <th>nikkei</th>\n",
       "    </tr>\n",
       "  </thead>\n",
       "  <tbody>\n",
       "    <tr>\n",
       "      <th>0</th>\n",
       "      <td>07/01/1994</td>\n",
       "      <td>469.90</td>\n",
       "      <td>2224.95</td>\n",
       "      <td>3445.98</td>\n",
       "      <td>18124.01</td>\n",
       "    </tr>\n",
       "    <tr>\n",
       "      <th>1</th>\n",
       "      <td>10/01/1994</td>\n",
       "      <td>475.27</td>\n",
       "      <td>2225.00</td>\n",
       "      <td>3440.58</td>\n",
       "      <td>18443.44</td>\n",
       "    </tr>\n",
       "    <tr>\n",
       "      <th>2</th>\n",
       "      <td>11/01/1994</td>\n",
       "      <td>474.13</td>\n",
       "      <td>2228.10</td>\n",
       "      <td>3413.77</td>\n",
       "      <td>18485.25</td>\n",
       "    </tr>\n",
       "    <tr>\n",
       "      <th>3</th>\n",
       "      <td>12/01/1994</td>\n",
       "      <td>474.17</td>\n",
       "      <td>2182.06</td>\n",
       "      <td>3372.02</td>\n",
       "      <td>18793.88</td>\n",
       "    </tr>\n",
       "    <tr>\n",
       "      <th>4</th>\n",
       "      <td>13/01/1994</td>\n",
       "      <td>472.47</td>\n",
       "      <td>2142.37</td>\n",
       "      <td>3360.01</td>\n",
       "      <td>18577.26</td>\n",
       "    </tr>\n",
       "  </tbody>\n",
       "</table>\n",
       "</div>"
      ],
      "text/plain": [
       "         date     spx      dax     ftse    nikkei\n",
       "0  07/01/1994  469.90  2224.95  3445.98  18124.01\n",
       "1  10/01/1994  475.27  2225.00  3440.58  18443.44\n",
       "2  11/01/1994  474.13  2228.10  3413.77  18485.25\n",
       "3  12/01/1994  474.17  2182.06  3372.02  18793.88\n",
       "4  13/01/1994  472.47  2142.37  3360.01  18577.26"
      ]
     },
     "execution_count": 3,
     "metadata": {},
     "output_type": "execute_result"
    }
   ],
   "source": [
    "df.head()"
   ]
  },
  {
   "cell_type": "markdown",
   "id": "b6068867",
   "metadata": {},
   "source": [
    "## Examining the dataset"
   ]
  },
  {
   "cell_type": "code",
   "execution_count": 4,
   "id": "ce478be8",
   "metadata": {},
   "outputs": [
    {
     "name": "stdout",
     "output_type": "stream",
     "text": [
      "<class 'pandas.core.frame.DataFrame'>\n",
      "RangeIndex: 6269 entries, 0 to 6268\n",
      "Data columns (total 5 columns):\n",
      " #   Column  Non-Null Count  Dtype  \n",
      "---  ------  --------------  -----  \n",
      " 0   date    6269 non-null   object \n",
      " 1   spx     6269 non-null   float64\n",
      " 2   dax     6269 non-null   float64\n",
      " 3   ftse    6269 non-null   float64\n",
      " 4   nikkei  6269 non-null   float64\n",
      "dtypes: float64(4), object(1)\n",
      "memory usage: 245.0+ KB\n"
     ]
    }
   ],
   "source": [
    "\n",
    "df.info()"
   ]
  },
  {
   "cell_type": "code",
   "execution_count": 5,
   "id": "aefcd245",
   "metadata": {},
   "outputs": [
    {
     "data": {
      "text/html": [
       "<div>\n",
       "<style scoped>\n",
       "    .dataframe tbody tr th:only-of-type {\n",
       "        vertical-align: middle;\n",
       "    }\n",
       "\n",
       "    .dataframe tbody tr th {\n",
       "        vertical-align: top;\n",
       "    }\n",
       "\n",
       "    .dataframe thead th {\n",
       "        text-align: right;\n",
       "    }\n",
       "</style>\n",
       "<table border=\"1\" class=\"dataframe\">\n",
       "  <thead>\n",
       "    <tr style=\"text-align: right;\">\n",
       "      <th></th>\n",
       "      <th>spx</th>\n",
       "      <th>dax</th>\n",
       "      <th>ftse</th>\n",
       "      <th>nikkei</th>\n",
       "    </tr>\n",
       "  </thead>\n",
       "  <tbody>\n",
       "    <tr>\n",
       "      <th>count</th>\n",
       "      <td>6269.000000</td>\n",
       "      <td>6269.000000</td>\n",
       "      <td>6269.000000</td>\n",
       "      <td>6269.000000</td>\n",
       "    </tr>\n",
       "    <tr>\n",
       "      <th>mean</th>\n",
       "      <td>1288.127542</td>\n",
       "      <td>6080.063363</td>\n",
       "      <td>5422.713545</td>\n",
       "      <td>14597.055700</td>\n",
       "    </tr>\n",
       "    <tr>\n",
       "      <th>std</th>\n",
       "      <td>487.586473</td>\n",
       "      <td>2754.361032</td>\n",
       "      <td>1145.572428</td>\n",
       "      <td>4043.122953</td>\n",
       "    </tr>\n",
       "    <tr>\n",
       "      <th>min</th>\n",
       "      <td>438.920000</td>\n",
       "      <td>1911.700000</td>\n",
       "      <td>2876.600000</td>\n",
       "      <td>7054.980000</td>\n",
       "    </tr>\n",
       "    <tr>\n",
       "      <th>25%</th>\n",
       "      <td>990.671905</td>\n",
       "      <td>4069.350000</td>\n",
       "      <td>4486.100000</td>\n",
       "      <td>10709.290000</td>\n",
       "    </tr>\n",
       "    <tr>\n",
       "      <th>50%</th>\n",
       "      <td>1233.420000</td>\n",
       "      <td>5773.340000</td>\n",
       "      <td>5662.430000</td>\n",
       "      <td>15028.170000</td>\n",
       "    </tr>\n",
       "    <tr>\n",
       "      <th>75%</th>\n",
       "      <td>1459.987747</td>\n",
       "      <td>7443.070000</td>\n",
       "      <td>6304.250000</td>\n",
       "      <td>17860.470000</td>\n",
       "    </tr>\n",
       "    <tr>\n",
       "      <th>max</th>\n",
       "      <td>2872.867839</td>\n",
       "      <td>13559.600000</td>\n",
       "      <td>7778.637689</td>\n",
       "      <td>24124.150000</td>\n",
       "    </tr>\n",
       "  </tbody>\n",
       "</table>\n",
       "</div>"
      ],
      "text/plain": [
       "               spx           dax         ftse        nikkei\n",
       "count  6269.000000   6269.000000  6269.000000   6269.000000\n",
       "mean   1288.127542   6080.063363  5422.713545  14597.055700\n",
       "std     487.586473   2754.361032  1145.572428   4043.122953\n",
       "min     438.920000   1911.700000  2876.600000   7054.980000\n",
       "25%     990.671905   4069.350000  4486.100000  10709.290000\n",
       "50%    1233.420000   5773.340000  5662.430000  15028.170000\n",
       "75%    1459.987747   7443.070000  6304.250000  17860.470000\n",
       "max    2872.867839  13559.600000  7778.637689  24124.150000"
      ]
     },
     "execution_count": 5,
     "metadata": {},
     "output_type": "execute_result"
    }
   ],
   "source": [
    "df.describe()"
   ]
  },
  {
   "cell_type": "code",
   "execution_count": 6,
   "id": "4b91aa9a",
   "metadata": {},
   "outputs": [
    {
     "data": {
      "text/plain": [
       "date      0\n",
       "spx       0\n",
       "dax       0\n",
       "ftse      0\n",
       "nikkei    0\n",
       "dtype: int64"
      ]
     },
     "execution_count": 6,
     "metadata": {},
     "output_type": "execute_result"
    }
   ],
   "source": [
    "df.isnull().sum()"
   ]
  },
  {
   "cell_type": "code",
   "execution_count": 7,
   "id": "3468933f",
   "metadata": {},
   "outputs": [
    {
     "data": {
      "text/plain": [
       "date      0\n",
       "spx       0\n",
       "dax       0\n",
       "ftse      0\n",
       "nikkei    0\n",
       "dtype: int64"
      ]
     },
     "execution_count": 7,
     "metadata": {},
     "output_type": "execute_result"
    }
   ],
   "source": [
    "# In python --> True means 1 and False means 0\n",
    "df.isna().sum()"
   ]
  },
  {
   "cell_type": "code",
   "execution_count": 8,
   "id": "381355f0",
   "metadata": {},
   "outputs": [
    {
     "data": {
      "text/plain": [
       "(6269, 5)"
      ]
     },
     "execution_count": 8,
     "metadata": {},
     "output_type": "execute_result"
    }
   ],
   "source": [
    "df.shape"
   ]
  },
  {
   "cell_type": "code",
   "execution_count": 9,
   "id": "843a76a0",
   "metadata": {},
   "outputs": [
    {
     "data": {
      "text/plain": [
       "'\\n\\nS&p 500 - spx (USA)\\nDAX30 - dsx (Germany)\\nFTSE100 - ftse (London)\\nFTSE100 - ftseNIKKEI 225 - nikkei (Japan)\\n\\n '"
      ]
     },
     "execution_count": 9,
     "metadata": {},
     "output_type": "execute_result"
    }
   ],
   "source": [
    "# Top 4 marketing indexes in the world:-\n",
    "'''\n",
    "\n",
    "S&p 500 - spx (USA)\n",
    "DAX30 - dsx (Germany)\n",
    "FTSE100 - ftse (London)\n",
    "FTSE100 - ftseNIKKEI 225 - nikkei (Japan)\n",
    "\n",
    " '''\n"
   ]
  },
  {
   "cell_type": "markdown",
   "id": "323b992d",
   "metadata": {},
   "source": [
    "## Changing the dataset"
   ]
  },
  {
   "cell_type": "code",
   "execution_count": 10,
   "id": "8f8136f7",
   "metadata": {},
   "outputs": [
    {
     "data": {
      "text/html": [
       "<div>\n",
       "<style scoped>\n",
       "    .dataframe tbody tr th:only-of-type {\n",
       "        vertical-align: middle;\n",
       "    }\n",
       "\n",
       "    .dataframe tbody tr th {\n",
       "        vertical-align: top;\n",
       "    }\n",
       "\n",
       "    .dataframe thead th {\n",
       "        text-align: right;\n",
       "    }\n",
       "</style>\n",
       "<table border=\"1\" class=\"dataframe\">\n",
       "  <thead>\n",
       "    <tr style=\"text-align: right;\">\n",
       "      <th></th>\n",
       "      <th>date</th>\n",
       "      <th>spx</th>\n",
       "      <th>dax</th>\n",
       "      <th>ftse</th>\n",
       "      <th>nikkei</th>\n",
       "    </tr>\n",
       "  </thead>\n",
       "  <tbody>\n",
       "    <tr>\n",
       "      <th>0</th>\n",
       "      <td>1994-01-07</td>\n",
       "      <td>469.90</td>\n",
       "      <td>2224.95</td>\n",
       "      <td>3445.98</td>\n",
       "      <td>18124.01</td>\n",
       "    </tr>\n",
       "    <tr>\n",
       "      <th>1</th>\n",
       "      <td>1994-01-10</td>\n",
       "      <td>475.27</td>\n",
       "      <td>2225.00</td>\n",
       "      <td>3440.58</td>\n",
       "      <td>18443.44</td>\n",
       "    </tr>\n",
       "    <tr>\n",
       "      <th>2</th>\n",
       "      <td>1994-01-11</td>\n",
       "      <td>474.13</td>\n",
       "      <td>2228.10</td>\n",
       "      <td>3413.77</td>\n",
       "      <td>18485.25</td>\n",
       "    </tr>\n",
       "    <tr>\n",
       "      <th>3</th>\n",
       "      <td>1994-01-12</td>\n",
       "      <td>474.17</td>\n",
       "      <td>2182.06</td>\n",
       "      <td>3372.02</td>\n",
       "      <td>18793.88</td>\n",
       "    </tr>\n",
       "    <tr>\n",
       "      <th>4</th>\n",
       "      <td>1994-01-13</td>\n",
       "      <td>472.47</td>\n",
       "      <td>2142.37</td>\n",
       "      <td>3360.01</td>\n",
       "      <td>18577.26</td>\n",
       "    </tr>\n",
       "  </tbody>\n",
       "</table>\n",
       "</div>"
      ],
      "text/plain": [
       "        date     spx      dax     ftse    nikkei\n",
       "0 1994-01-07  469.90  2224.95  3445.98  18124.01\n",
       "1 1994-01-10  475.27  2225.00  3440.58  18443.44\n",
       "2 1994-01-11  474.13  2228.10  3413.77  18485.25\n",
       "3 1994-01-12  474.17  2182.06  3372.02  18793.88\n",
       "4 1994-01-13  472.47  2142.37  3360.01  18577.26"
      ]
     },
     "execution_count": 10,
     "metadata": {},
     "output_type": "execute_result"
    }
   ],
   "source": [
    "df['date'] = pd.to_datetime(df['date'], dayfirst=True)\n",
    "df.head()"
   ]
  },
  {
   "cell_type": "code",
   "execution_count": 11,
   "id": "2ee097e9",
   "metadata": {},
   "outputs": [
    {
     "name": "stderr",
     "output_type": "stream",
     "text": [
      "<ipython-input-11-f7d3fa946723>:1: FutureWarning: Treating datetime data as categorical rather than numeric in `.describe` is deprecated and will be removed in a future version of pandas. Specify `datetime_is_numeric=True` to silence this warning and adopt the future behavior now.\n",
      "  df.date.describe()\n"
     ]
    },
    {
     "data": {
      "text/plain": [
       "count                    6269\n",
       "unique                   6269\n",
       "top       1999-11-12 00:00:00\n",
       "freq                        1\n",
       "first     1994-01-07 00:00:00\n",
       "last      2018-01-29 00:00:00\n",
       "Name: date, dtype: object"
      ]
     },
     "execution_count": 11,
     "metadata": {},
     "output_type": "execute_result"
    }
   ],
   "source": [
    "df.date.describe()"
   ]
  },
  {
   "cell_type": "code",
   "execution_count": 12,
   "id": "485c0692",
   "metadata": {},
   "outputs": [
    {
     "name": "stdout",
     "output_type": "stream",
     "text": [
      "<class 'pandas.core.frame.DataFrame'>\n",
      "RangeIndex: 6269 entries, 0 to 6268\n",
      "Data columns (total 5 columns):\n",
      " #   Column  Non-Null Count  Dtype         \n",
      "---  ------  --------------  -----         \n",
      " 0   date    6269 non-null   datetime64[ns]\n",
      " 1   spx     6269 non-null   float64       \n",
      " 2   dax     6269 non-null   float64       \n",
      " 3   ftse    6269 non-null   float64       \n",
      " 4   nikkei  6269 non-null   float64       \n",
      "dtypes: datetime64[ns](1), float64(4)\n",
      "memory usage: 245.0 KB\n"
     ]
    }
   ],
   "source": [
    "df.info()"
   ]
  },
  {
   "cell_type": "code",
   "execution_count": 13,
   "id": "ac906242",
   "metadata": {},
   "outputs": [
    {
     "data": {
      "text/plain": [
       "[<matplotlib.lines.Line2D at 0x2904b24ef10>]"
      ]
     },
     "execution_count": 13,
     "metadata": {},
     "output_type": "execute_result"
    },
    {
     "data": {
      "image/png": "[encoded data removed]",
      "text/plain": [
       "<Figure size 432x288 with 1 Axes>"
      ]
     },
     "metadata": {
      "needs_background": "light"
     },
     "output_type": "display_data"
    }
   ],
   "source": [
    "# Checking the Time series data visually.\n",
    "\n",
    "plt.plot(df['spx'], color='green', linestyle='dashed', linewidth=1, markersize=1)\n",
    "\n",
    "plt.plot(df['dax'], color='blue', linestyle='dashed', linewidth=1, markersize=1)\n",
    "\n",
    "plt.plot(df['ftse'], color='red', linestyle='dashed', linewidth=1, markersize=1)\n",
    "\n",
    "plt.plot(df['nikkei'], color='orange', linestyle='dashed', linewidth=1, markersize=1)"
   ]
  },
  {
   "cell_type": "code",
   "execution_count": 14,
   "id": "f2c13384",
   "metadata": {},
   "outputs": [
    {
     "data": {
      "image/png": "[encoded data removed]",
      "text/plain": [
       "<Figure size 1440x720 with 1 Axes>"
      ]
     },
     "metadata": {
      "needs_background": "light"
     },
     "output_type": "display_data"
    }
   ],
   "source": [
    "df.spx.plot(figsize=(20,10), title= 'S&P 500 Prices')\n",
    "plt.show()"
   ]
  },
  {
   "cell_type": "code",
   "execution_count": 15,
   "id": "c4b5891d",
   "metadata": {},
   "outputs": [
    {
     "data": {
      "image/png": "[encoded data removed]",
      "text/plain": [
       "<Figure size 1440x720 with 1 Axes>"
      ]
     },
     "metadata": {
      "needs_background": "light"
     },
     "output_type": "display_data"
    }
   ],
   "source": [
    "df.ftse.plot(figsize=(20,10), title= 'FTSE100 - ftse', color='orange')\n",
    "plt.show()"
   ]
  },
  {
   "cell_type": "markdown",
   "id": "6dd8a5ea",
   "metadata": {},
   "source": [
    "## QQ - Plot"
   ]
  },
  {
   "cell_type": "code",
   "execution_count": 16,
   "id": "04cc8e51",
   "metadata": {},
   "outputs": [
    {
     "data": {
      "text/plain": [
       "'\\nThe QQ plots are generally used to determine whether a dataset\\nfits a normal distribution or not.\\n'"
      ]
     },
     "execution_count": 16,
     "metadata": {},
     "output_type": "execute_result"
    }
   ],
   "source": [
    "# The quantile-quantile (QQ plot) are used to determine whether a \n",
    "# dataset is distributed a certain way.\n",
    "\n",
    "'''\n",
    "The QQ plots are generally used to determine whether a dataset\n",
    "fits a normal distribution or not.\n",
    "'''"
   ]
  },
  {
   "cell_type": "code",
   "execution_count": 17,
   "id": "a8e52186",
   "metadata": {},
   "outputs": [],
   "source": [
    "import scipy.stats\n",
    "import pylab"
   ]
  },
  {
   "cell_type": "code",
   "execution_count": 18,
   "id": "498d1c17",
   "metadata": {},
   "outputs": [
    {
     "data": {
      "image/png": "[encoded data removed]",
      "text/plain": [
       "<Figure size 432x288 with 1 Axes>"
      ]
     },
     "metadata": {
      "needs_background": "light"
     },
     "output_type": "display_data"
    }
   ],
   "source": [
    "scipy.stats.probplot(df.spx, plot= pylab)\n",
    "plt.show()"
   ]
  },
  {
   "cell_type": "code",
   "execution_count": 19,
   "id": "6306bb52",
   "metadata": {},
   "outputs": [],
   "source": [
    "#  here the red line shows how the data values should follow\n",
    "# if they were following a normal distribution."
   ]
  },
  {
   "cell_type": "markdown",
   "id": "7cd8bcd0",
   "metadata": {},
   "source": [
    "## Setting date column as index"
   ]
  },
  {
   "cell_type": "code",
   "execution_count": 20,
   "id": "b589168f",
   "metadata": {},
   "outputs": [],
   "source": [
    "df.set_index('date',inplace=True)"
   ]
  },
  {
   "cell_type": "code",
   "execution_count": 21,
   "id": "85eb090a",
   "metadata": {},
   "outputs": [
    {
     "data": {
      "text/html": [
       "<div>\n",
       "<style scoped>\n",
       "    .dataframe tbody tr th:only-of-type {\n",
       "        vertical-align: middle;\n",
       "    }\n",
       "\n",
       "    .dataframe tbody tr th {\n",
       "        vertical-align: top;\n",
       "    }\n",
       "\n",
       "    .dataframe thead th {\n",
       "        text-align: right;\n",
       "    }\n",
       "</style>\n",
       "<table border=\"1\" class=\"dataframe\">\n",
       "  <thead>\n",
       "    <tr style=\"text-align: right;\">\n",
       "      <th></th>\n",
       "      <th>spx</th>\n",
       "      <th>dax</th>\n",
       "      <th>ftse</th>\n",
       "      <th>nikkei</th>\n",
       "    </tr>\n",
       "    <tr>\n",
       "      <th>date</th>\n",
       "      <th></th>\n",
       "      <th></th>\n",
       "      <th></th>\n",
       "      <th></th>\n",
       "    </tr>\n",
       "  </thead>\n",
       "  <tbody>\n",
       "    <tr>\n",
       "      <th>1994-01-07</th>\n",
       "      <td>469.90</td>\n",
       "      <td>2224.95</td>\n",
       "      <td>3445.98</td>\n",
       "      <td>18124.01</td>\n",
       "    </tr>\n",
       "    <tr>\n",
       "      <th>1994-01-10</th>\n",
       "      <td>475.27</td>\n",
       "      <td>2225.00</td>\n",
       "      <td>3440.58</td>\n",
       "      <td>18443.44</td>\n",
       "    </tr>\n",
       "    <tr>\n",
       "      <th>1994-01-11</th>\n",
       "      <td>474.13</td>\n",
       "      <td>2228.10</td>\n",
       "      <td>3413.77</td>\n",
       "      <td>18485.25</td>\n",
       "    </tr>\n",
       "    <tr>\n",
       "      <th>1994-01-12</th>\n",
       "      <td>474.17</td>\n",
       "      <td>2182.06</td>\n",
       "      <td>3372.02</td>\n",
       "      <td>18793.88</td>\n",
       "    </tr>\n",
       "    <tr>\n",
       "      <th>1994-01-13</th>\n",
       "      <td>472.47</td>\n",
       "      <td>2142.37</td>\n",
       "      <td>3360.01</td>\n",
       "      <td>18577.26</td>\n",
       "    </tr>\n",
       "  </tbody>\n",
       "</table>\n",
       "</div>"
      ],
      "text/plain": [
       "               spx      dax     ftse    nikkei\n",
       "date                                          \n",
       "1994-01-07  469.90  2224.95  3445.98  18124.01\n",
       "1994-01-10  475.27  2225.00  3440.58  18443.44\n",
       "1994-01-11  474.13  2228.10  3413.77  18485.25\n",
       "1994-01-12  474.17  2182.06  3372.02  18793.88\n",
       "1994-01-13  472.47  2142.37  3360.01  18577.26"
      ]
     },
     "execution_count": 21,
     "metadata": {},
     "output_type": "execute_result"
    }
   ],
   "source": [
    "df.head()"
   ]
  },
  {
   "cell_type": "markdown",
   "id": "e1aa5b0b",
   "metadata": {},
   "source": [
    "## Setting Desired Frequncy :-"
   ]
  },
  {
   "cell_type": "code",
   "execution_count": 22,
   "id": "894a7d3c",
   "metadata": {},
   "outputs": [
    {
     "data": {
      "text/plain": [
       "\" \\n'h'- Hourly\\n'w'- Weekly\\n'd'- Daily\\n'm'- Monthly\\n'a'- annually/ yearly\\n\""
      ]
     },
     "execution_count": 22,
     "metadata": {},
     "output_type": "execute_result"
    }
   ],
   "source": [
    "# For this purpose we use asfreq() method:-\n",
    "''' \n",
    "'h'- Hourly\n",
    "'w'- Weekly\n",
    "'d'- Daily\n",
    "'m'- Monthly\n",
    "'a'- annually/ yearly\n",
    "'''    "
   ]
  },
  {
   "cell_type": "code",
   "execution_count": 23,
   "id": "d07211f8",
   "metadata": {},
   "outputs": [],
   "source": [
    "# Since our dataset contained daily data we set asfreq = 'd'\n",
    "df = df.asfreq('d')"
   ]
  },
  {
   "cell_type": "code",
   "execution_count": 24,
   "id": "5b434075",
   "metadata": {},
   "outputs": [
    {
     "data": {
      "text/html": [
       "<div>\n",
       "<style scoped>\n",
       "    .dataframe tbody tr th:only-of-type {\n",
       "        vertical-align: middle;\n",
       "    }\n",
       "\n",
       "    .dataframe tbody tr th {\n",
       "        vertical-align: top;\n",
       "    }\n",
       "\n",
       "    .dataframe thead th {\n",
       "        text-align: right;\n",
       "    }\n",
       "</style>\n",
       "<table border=\"1\" class=\"dataframe\">\n",
       "  <thead>\n",
       "    <tr style=\"text-align: right;\">\n",
       "      <th></th>\n",
       "      <th>spx</th>\n",
       "      <th>dax</th>\n",
       "      <th>ftse</th>\n",
       "      <th>nikkei</th>\n",
       "    </tr>\n",
       "    <tr>\n",
       "      <th>date</th>\n",
       "      <th></th>\n",
       "      <th></th>\n",
       "      <th></th>\n",
       "      <th></th>\n",
       "    </tr>\n",
       "  </thead>\n",
       "  <tbody>\n",
       "    <tr>\n",
       "      <th>1994-01-07</th>\n",
       "      <td>469.90</td>\n",
       "      <td>2224.95</td>\n",
       "      <td>3445.98</td>\n",
       "      <td>18124.01</td>\n",
       "    </tr>\n",
       "    <tr>\n",
       "      <th>1994-01-08</th>\n",
       "      <td>NaN</td>\n",
       "      <td>NaN</td>\n",
       "      <td>NaN</td>\n",
       "      <td>NaN</td>\n",
       "    </tr>\n",
       "    <tr>\n",
       "      <th>1994-01-09</th>\n",
       "      <td>NaN</td>\n",
       "      <td>NaN</td>\n",
       "      <td>NaN</td>\n",
       "      <td>NaN</td>\n",
       "    </tr>\n",
       "    <tr>\n",
       "      <th>1994-01-10</th>\n",
       "      <td>475.27</td>\n",
       "      <td>2225.00</td>\n",
       "      <td>3440.58</td>\n",
       "      <td>18443.44</td>\n",
       "    </tr>\n",
       "    <tr>\n",
       "      <th>1994-01-11</th>\n",
       "      <td>474.13</td>\n",
       "      <td>2228.10</td>\n",
       "      <td>3413.77</td>\n",
       "      <td>18485.25</td>\n",
       "    </tr>\n",
       "  </tbody>\n",
       "</table>\n",
       "</div>"
      ],
      "text/plain": [
       "               spx      dax     ftse    nikkei\n",
       "date                                          \n",
       "1994-01-07  469.90  2224.95  3445.98  18124.01\n",
       "1994-01-08     NaN      NaN      NaN       NaN\n",
       "1994-01-09     NaN      NaN      NaN       NaN\n",
       "1994-01-10  475.27  2225.00  3440.58  18443.44\n",
       "1994-01-11  474.13  2228.10  3413.77  18485.25"
      ]
     },
     "execution_count": 24,
     "metadata": {},
     "output_type": "execute_result"
    }
   ],
   "source": [
    "df.head()"
   ]
  },
  {
   "cell_type": "code",
   "execution_count": 25,
   "id": "cbd575df",
   "metadata": {},
   "outputs": [],
   "source": [
    "# Since frequency is daily, we have some closes prices of certain days left out\n",
    "\n",
    "# We have to remove the unnecessary saturday and sunday time periods."
   ]
  },
  {
   "cell_type": "code",
   "execution_count": 26,
   "id": "ab1f4c18",
   "metadata": {},
   "outputs": [
    {
     "data": {
      "text/html": [
       "<div>\n",
       "<style scoped>\n",
       "    .dataframe tbody tr th:only-of-type {\n",
       "        vertical-align: middle;\n",
       "    }\n",
       "\n",
       "    .dataframe tbody tr th {\n",
       "        vertical-align: top;\n",
       "    }\n",
       "\n",
       "    .dataframe thead th {\n",
       "        text-align: right;\n",
       "    }\n",
       "</style>\n",
       "<table border=\"1\" class=\"dataframe\">\n",
       "  <thead>\n",
       "    <tr style=\"text-align: right;\">\n",
       "      <th></th>\n",
       "      <th>spx</th>\n",
       "      <th>dax</th>\n",
       "      <th>ftse</th>\n",
       "      <th>nikkei</th>\n",
       "    </tr>\n",
       "    <tr>\n",
       "      <th>date</th>\n",
       "      <th></th>\n",
       "      <th></th>\n",
       "      <th></th>\n",
       "      <th></th>\n",
       "    </tr>\n",
       "  </thead>\n",
       "  <tbody>\n",
       "    <tr>\n",
       "      <th>1994-01-07</th>\n",
       "      <td>469.90</td>\n",
       "      <td>2224.95</td>\n",
       "      <td>3445.98</td>\n",
       "      <td>18124.01</td>\n",
       "    </tr>\n",
       "    <tr>\n",
       "      <th>1994-01-10</th>\n",
       "      <td>475.27</td>\n",
       "      <td>2225.00</td>\n",
       "      <td>3440.58</td>\n",
       "      <td>18443.44</td>\n",
       "    </tr>\n",
       "    <tr>\n",
       "      <th>1994-01-11</th>\n",
       "      <td>474.13</td>\n",
       "      <td>2228.10</td>\n",
       "      <td>3413.77</td>\n",
       "      <td>18485.25</td>\n",
       "    </tr>\n",
       "    <tr>\n",
       "      <th>1994-01-12</th>\n",
       "      <td>474.17</td>\n",
       "      <td>2182.06</td>\n",
       "      <td>3372.02</td>\n",
       "      <td>18793.88</td>\n",
       "    </tr>\n",
       "    <tr>\n",
       "      <th>1994-01-13</th>\n",
       "      <td>472.47</td>\n",
       "      <td>2142.37</td>\n",
       "      <td>3360.01</td>\n",
       "      <td>18577.26</td>\n",
       "    </tr>\n",
       "  </tbody>\n",
       "</table>\n",
       "</div>"
      ],
      "text/plain": [
       "               spx      dax     ftse    nikkei\n",
       "date                                          \n",
       "1994-01-07  469.90  2224.95  3445.98  18124.01\n",
       "1994-01-10  475.27  2225.00  3440.58  18443.44\n",
       "1994-01-11  474.13  2228.10  3413.77  18485.25\n",
       "1994-01-12  474.17  2182.06  3372.02  18793.88\n",
       "1994-01-13  472.47  2142.37  3360.01  18577.26"
      ]
     },
     "execution_count": 26,
     "metadata": {},
     "output_type": "execute_result"
    }
   ],
   "source": [
    "# Since our data works for only business days we set asfreq = 'b'\n",
    "'''\n",
    "Using \"b\" tells python to expect missing values when the date falls\n",
    "on a saturday or a sunday.\n",
    "'''\n",
    "df = df.asfreq('b')\n",
    "df.head()"
   ]
  },
  {
   "cell_type": "markdown",
   "id": "a45c1ebb",
   "metadata": {},
   "source": [
    "## Handling Missing values in Time Series"
   ]
  },
  {
   "cell_type": "code",
   "execution_count": 27,
   "id": "e3ab9bbd",
   "metadata": {},
   "outputs": [
    {
     "data": {
      "text/plain": [
       "spx       8\n",
       "dax       8\n",
       "ftse      8\n",
       "nikkei    8\n",
       "dtype: int64"
      ]
     },
     "execution_count": 27,
     "metadata": {},
     "output_type": "execute_result"
    }
   ],
   "source": [
    "df.isnull().sum()"
   ]
  },
  {
   "cell_type": "code",
   "execution_count": 28,
   "id": "07bb5167",
   "metadata": {},
   "outputs": [
    {
     "data": {
      "text/plain": [
       "'\\n1. Front Filling: Assign the values of the previous period. for \\nexample if we have missing value on 15th we choose the \\ncorresponding value from 14th.\\n\\n2. Back filling: Assign the values of the next period. for example \\nif we have missing value on 9th we choose the corresponding \\nvalue from 10th.\\n\\n3.Assigning the same value: Assign the average to all the missing \\nvalues within the time series.\\n\\n'"
      ]
     },
     "execution_count": 28,
     "metadata": {},
     "output_type": "execute_result"
    }
   ],
   "source": [
    "# To fill the missing values we can use fillna() method.\n",
    "'''\n",
    "1. Front Filling: Assign the values of the previous period. for \n",
    "example if we have missing value on 15th we choose the \n",
    "corresponding value from 14th.\n",
    "\n",
    "2. Back filling: Assign the values of the next period. for example \n",
    "if we have missing value on 9th we choose the corresponding \n",
    "value from 10th.\n",
    "\n",
    "3.Assigning the same value: Assign the average to all the missing \n",
    "values within the time series.\n",
    "\n",
    "'''"
   ]
  },
  {
   "cell_type": "code",
   "execution_count": 29,
   "id": "41e0c825",
   "metadata": {},
   "outputs": [],
   "source": [
    "# filling spx missing values using front filling:-\n",
    "\n",
    "df.spx = df.spx.fillna(method='ffill')"
   ]
  },
  {
   "cell_type": "code",
   "execution_count": 30,
   "id": "4a480bbd",
   "metadata": {},
   "outputs": [
    {
     "data": {
      "text/plain": [
       "0"
      ]
     },
     "execution_count": 30,
     "metadata": {},
     "output_type": "execute_result"
    }
   ],
   "source": [
    "df.spx.isnull().sum()"
   ]
  },
  {
   "cell_type": "code",
   "execution_count": 31,
   "id": "f4fa04c9",
   "metadata": {},
   "outputs": [],
   "source": [
    "# filling ftse missing values using back filling:-\n",
    "\n",
    "df.ftse = df.ftse.fillna(method='bfill')"
   ]
  },
  {
   "cell_type": "code",
   "execution_count": 32,
   "id": "b1bab185",
   "metadata": {},
   "outputs": [
    {
     "data": {
      "text/plain": [
       "0"
      ]
     },
     "execution_count": 32,
     "metadata": {},
     "output_type": "execute_result"
    }
   ],
   "source": [
    "df.ftse.isnull().sum()"
   ]
  },
  {
   "cell_type": "code",
   "execution_count": 33,
   "id": "f1dd94e6",
   "metadata": {},
   "outputs": [],
   "source": [
    "# filling dax missing values using average filling:-\n",
    "\n",
    "df.dax = df.dax.fillna(value= df.dax.mean())"
   ]
  },
  {
   "cell_type": "code",
   "execution_count": 34,
   "id": "d06f871f",
   "metadata": {},
   "outputs": [
    {
     "data": {
      "text/plain": [
       "spx       0\n",
       "dax       0\n",
       "ftse      0\n",
       "nikkei    8\n",
       "dtype: int64"
      ]
     },
     "execution_count": 34,
     "metadata": {},
     "output_type": "execute_result"
    }
   ],
   "source": [
    "df.isnull().sum()"
   ]
  },
  {
   "cell_type": "markdown",
   "id": "077db387",
   "metadata": {},
   "source": [
    "## Adding and removing columns in a dataset."
   ]
  },
  {
   "cell_type": "code",
   "execution_count": 35,
   "id": "129ceaa4",
   "metadata": {},
   "outputs": [],
   "source": [
    "df['market'] = df.spx"
   ]
  },
  {
   "cell_type": "code",
   "execution_count": 36,
   "id": "36f06464",
   "metadata": {},
   "outputs": [
    {
     "data": {
      "text/html": [
       "<div>\n",
       "<style scoped>\n",
       "    .dataframe tbody tr th:only-of-type {\n",
       "        vertical-align: middle;\n",
       "    }\n",
       "\n",
       "    .dataframe tbody tr th {\n",
       "        vertical-align: top;\n",
       "    }\n",
       "\n",
       "    .dataframe thead th {\n",
       "        text-align: right;\n",
       "    }\n",
       "</style>\n",
       "<table border=\"1\" class=\"dataframe\">\n",
       "  <thead>\n",
       "    <tr style=\"text-align: right;\">\n",
       "      <th></th>\n",
       "      <th>spx</th>\n",
       "      <th>dax</th>\n",
       "      <th>ftse</th>\n",
       "      <th>nikkei</th>\n",
       "      <th>market</th>\n",
       "    </tr>\n",
       "  </thead>\n",
       "  <tbody>\n",
       "    <tr>\n",
       "      <th>count</th>\n",
       "      <td>6277.000000</td>\n",
       "      <td>6277.000000</td>\n",
       "      <td>6277.000000</td>\n",
       "      <td>6269.000000</td>\n",
       "      <td>6277.000000</td>\n",
       "    </tr>\n",
       "    <tr>\n",
       "      <th>mean</th>\n",
       "      <td>1288.642547</td>\n",
       "      <td>6080.063363</td>\n",
       "      <td>5423.690398</td>\n",
       "      <td>14597.055700</td>\n",
       "      <td>1288.642547</td>\n",
       "    </tr>\n",
       "    <tr>\n",
       "      <th>std</th>\n",
       "      <td>487.868210</td>\n",
       "      <td>2752.604984</td>\n",
       "      <td>1145.568370</td>\n",
       "      <td>4043.122953</td>\n",
       "      <td>487.868210</td>\n",
       "    </tr>\n",
       "    <tr>\n",
       "      <th>min</th>\n",
       "      <td>438.920000</td>\n",
       "      <td>1911.700000</td>\n",
       "      <td>2876.600000</td>\n",
       "      <td>7054.980000</td>\n",
       "      <td>438.920000</td>\n",
       "    </tr>\n",
       "    <tr>\n",
       "      <th>25%</th>\n",
       "      <td>992.715221</td>\n",
       "      <td>4070.460000</td>\n",
       "      <td>4487.880000</td>\n",
       "      <td>10709.290000</td>\n",
       "      <td>992.715221</td>\n",
       "    </tr>\n",
       "    <tr>\n",
       "      <th>50%</th>\n",
       "      <td>1233.761241</td>\n",
       "      <td>5774.380000</td>\n",
       "      <td>5663.300000</td>\n",
       "      <td>15028.170000</td>\n",
       "      <td>1233.761241</td>\n",
       "    </tr>\n",
       "    <tr>\n",
       "      <th>75%</th>\n",
       "      <td>1460.250000</td>\n",
       "      <td>7442.660000</td>\n",
       "      <td>6304.630175</td>\n",
       "      <td>17860.470000</td>\n",
       "      <td>1460.250000</td>\n",
       "    </tr>\n",
       "    <tr>\n",
       "      <th>max</th>\n",
       "      <td>2872.867839</td>\n",
       "      <td>13559.600000</td>\n",
       "      <td>7778.637689</td>\n",
       "      <td>24124.150000</td>\n",
       "      <td>2872.867839</td>\n",
       "    </tr>\n",
       "  </tbody>\n",
       "</table>\n",
       "</div>"
      ],
      "text/plain": [
       "               spx           dax         ftse        nikkei       market\n",
       "count  6277.000000   6277.000000  6277.000000   6269.000000  6277.000000\n",
       "mean   1288.642547   6080.063363  5423.690398  14597.055700  1288.642547\n",
       "std     487.868210   2752.604984  1145.568370   4043.122953   487.868210\n",
       "min     438.920000   1911.700000  2876.600000   7054.980000   438.920000\n",
       "25%     992.715221   4070.460000  4487.880000  10709.290000   992.715221\n",
       "50%    1233.761241   5774.380000  5663.300000  15028.170000  1233.761241\n",
       "75%    1460.250000   7442.660000  6304.630175  17860.470000  1460.250000\n",
       "max    2872.867839  13559.600000  7778.637689  24124.150000  2872.867839"
      ]
     },
     "execution_count": 36,
     "metadata": {},
     "output_type": "execute_result"
    }
   ],
   "source": [
    "df.describe()"
   ]
  },
  {
   "cell_type": "code",
   "execution_count": 37,
   "id": "04c3b17c",
   "metadata": {},
   "outputs": [],
   "source": [
    "# How to remove the columns from a dataframe."
   ]
  },
  {
   "cell_type": "code",
   "execution_count": 38,
   "id": "ba21f9f3",
   "metadata": {},
   "outputs": [],
   "source": [
    "# del df['spx'], df['dax'], df['ftse'], df['nikkei']"
   ]
  },
  {
   "cell_type": "code",
   "execution_count": 39,
   "id": "1a91faee",
   "metadata": {},
   "outputs": [
    {
     "data": {
      "text/html": [
       "<div>\n",
       "<style scoped>\n",
       "    .dataframe tbody tr th:only-of-type {\n",
       "        vertical-align: middle;\n",
       "    }\n",
       "\n",
       "    .dataframe tbody tr th {\n",
       "        vertical-align: top;\n",
       "    }\n",
       "\n",
       "    .dataframe thead th {\n",
       "        text-align: right;\n",
       "    }\n",
       "</style>\n",
       "<table border=\"1\" class=\"dataframe\">\n",
       "  <thead>\n",
       "    <tr style=\"text-align: right;\">\n",
       "      <th></th>\n",
       "      <th>market</th>\n",
       "    </tr>\n",
       "    <tr>\n",
       "      <th>date</th>\n",
       "      <th></th>\n",
       "    </tr>\n",
       "  </thead>\n",
       "  <tbody>\n",
       "    <tr>\n",
       "      <th>1994-01-07</th>\n",
       "      <td>469.900000</td>\n",
       "    </tr>\n",
       "    <tr>\n",
       "      <th>1994-01-10</th>\n",
       "      <td>475.270000</td>\n",
       "    </tr>\n",
       "    <tr>\n",
       "      <th>1994-01-11</th>\n",
       "      <td>474.130000</td>\n",
       "    </tr>\n",
       "    <tr>\n",
       "      <th>1994-01-12</th>\n",
       "      <td>474.170000</td>\n",
       "    </tr>\n",
       "    <tr>\n",
       "      <th>1994-01-13</th>\n",
       "      <td>472.470000</td>\n",
       "    </tr>\n",
       "    <tr>\n",
       "      <th>...</th>\n",
       "      <td>...</td>\n",
       "    </tr>\n",
       "    <tr>\n",
       "      <th>2018-01-23</th>\n",
       "      <td>2839.130362</td>\n",
       "    </tr>\n",
       "    <tr>\n",
       "      <th>2018-01-24</th>\n",
       "      <td>2837.544008</td>\n",
       "    </tr>\n",
       "    <tr>\n",
       "      <th>2018-01-25</th>\n",
       "      <td>2839.253031</td>\n",
       "    </tr>\n",
       "    <tr>\n",
       "      <th>2018-01-26</th>\n",
       "      <td>2872.867839</td>\n",
       "    </tr>\n",
       "    <tr>\n",
       "      <th>2018-01-29</th>\n",
       "      <td>2853.528411</td>\n",
       "    </tr>\n",
       "  </tbody>\n",
       "</table>\n",
       "<p>6277 rows × 1 columns</p>\n",
       "</div>"
      ],
      "text/plain": [
       "                 market\n",
       "date                   \n",
       "1994-01-07   469.900000\n",
       "1994-01-10   475.270000\n",
       "1994-01-11   474.130000\n",
       "1994-01-12   474.170000\n",
       "1994-01-13   472.470000\n",
       "...                 ...\n",
       "2018-01-23  2839.130362\n",
       "2018-01-24  2837.544008\n",
       "2018-01-25  2839.253031\n",
       "2018-01-26  2872.867839\n",
       "2018-01-29  2853.528411\n",
       "\n",
       "[6277 rows x 1 columns]"
      ]
     },
     "execution_count": 39,
     "metadata": {},
     "output_type": "execute_result"
    }
   ],
   "source": [
    "df.drop(columns=['spx', 'dax', 'ftse', 'nikkei'])"
   ]
  },
  {
   "cell_type": "code",
   "execution_count": 40,
   "id": "4669da5a",
   "metadata": {},
   "outputs": [
    {
     "data": {
      "text/html": [
       "<div>\n",
       "<style scoped>\n",
       "    .dataframe tbody tr th:only-of-type {\n",
       "        vertical-align: middle;\n",
       "    }\n",
       "\n",
       "    .dataframe tbody tr th {\n",
       "        vertical-align: top;\n",
       "    }\n",
       "\n",
       "    .dataframe thead th {\n",
       "        text-align: right;\n",
       "    }\n",
       "</style>\n",
       "<table border=\"1\" class=\"dataframe\">\n",
       "  <thead>\n",
       "    <tr style=\"text-align: right;\">\n",
       "      <th></th>\n",
       "      <th>spx</th>\n",
       "      <th>dax</th>\n",
       "      <th>ftse</th>\n",
       "      <th>nikkei</th>\n",
       "      <th>market</th>\n",
       "    </tr>\n",
       "    <tr>\n",
       "      <th>date</th>\n",
       "      <th></th>\n",
       "      <th></th>\n",
       "      <th></th>\n",
       "      <th></th>\n",
       "      <th></th>\n",
       "    </tr>\n",
       "  </thead>\n",
       "  <tbody>\n",
       "    <tr>\n",
       "      <th>1994-01-07</th>\n",
       "      <td>469.90</td>\n",
       "      <td>2224.95</td>\n",
       "      <td>3445.98</td>\n",
       "      <td>18124.01</td>\n",
       "      <td>469.90</td>\n",
       "    </tr>\n",
       "    <tr>\n",
       "      <th>1994-01-10</th>\n",
       "      <td>475.27</td>\n",
       "      <td>2225.00</td>\n",
       "      <td>3440.58</td>\n",
       "      <td>18443.44</td>\n",
       "      <td>475.27</td>\n",
       "    </tr>\n",
       "    <tr>\n",
       "      <th>1994-01-11</th>\n",
       "      <td>474.13</td>\n",
       "      <td>2228.10</td>\n",
       "      <td>3413.77</td>\n",
       "      <td>18485.25</td>\n",
       "      <td>474.13</td>\n",
       "    </tr>\n",
       "    <tr>\n",
       "      <th>1994-01-12</th>\n",
       "      <td>474.17</td>\n",
       "      <td>2182.06</td>\n",
       "      <td>3372.02</td>\n",
       "      <td>18793.88</td>\n",
       "      <td>474.17</td>\n",
       "    </tr>\n",
       "    <tr>\n",
       "      <th>1994-01-13</th>\n",
       "      <td>472.47</td>\n",
       "      <td>2142.37</td>\n",
       "      <td>3360.01</td>\n",
       "      <td>18577.26</td>\n",
       "      <td>472.47</td>\n",
       "    </tr>\n",
       "  </tbody>\n",
       "</table>\n",
       "</div>"
      ],
      "text/plain": [
       "               spx      dax     ftse    nikkei  market\n",
       "date                                                  \n",
       "1994-01-07  469.90  2224.95  3445.98  18124.01  469.90\n",
       "1994-01-10  475.27  2225.00  3440.58  18443.44  475.27\n",
       "1994-01-11  474.13  2228.10  3413.77  18485.25  474.13\n",
       "1994-01-12  474.17  2182.06  3372.02  18793.88  474.17\n",
       "1994-01-13  472.47  2142.37  3360.01  18577.26  472.47"
      ]
     },
     "execution_count": 40,
     "metadata": {},
     "output_type": "execute_result"
    }
   ],
   "source": [
    "df.head()"
   ]
  },
  {
   "cell_type": "markdown",
   "id": "3e5f4ff1",
   "metadata": {},
   "source": [
    "## Splitting the dataset:-"
   ]
  },
  {
   "cell_type": "code",
   "execution_count": 41,
   "id": "5ccb3be1",
   "metadata": {},
   "outputs": [],
   "source": [
    "# Splitting the dataset:- \n",
    "# Since time series data is based upon the chronological order so we don't shuffle the data.\n",
    "# We will choose a cut off point at the 80% of the data to do train test split.\n"
   ]
  },
  {
   "cell_type": "code",
   "execution_count": 42,
   "id": "e5191b6a",
   "metadata": {},
   "outputs": [
    {
     "data": {
      "text/plain": [
       "5021"
      ]
     },
     "execution_count": 42,
     "metadata": {},
     "output_type": "execute_result"
    }
   ],
   "source": [
    "size = int(len(df)*0.8)\n",
    "size"
   ]
  },
  {
   "cell_type": "code",
   "execution_count": 43,
   "id": "a139319e",
   "metadata": {},
   "outputs": [],
   "source": [
    "# df_train = df.drop(columns=['spx', 'dax', 'ftse', 'nikkei']).iloc[0:size]\n",
    "# df_test = df.drop(columns=['spx', 'dax', 'ftse', 'nikkei']).iloc[size:]\n",
    "\n",
    "df_train = df.iloc[0:size]\n",
    "df_test = df.iloc[size:]"
   ]
  },
  {
   "cell_type": "code",
   "execution_count": 44,
   "id": "5ecc92f1",
   "metadata": {},
   "outputs": [
    {
     "data": {
      "text/html": [
       "<div>\n",
       "<style scoped>\n",
       "    .dataframe tbody tr th:only-of-type {\n",
       "        vertical-align: middle;\n",
       "    }\n",
       "\n",
       "    .dataframe tbody tr th {\n",
       "        vertical-align: top;\n",
       "    }\n",
       "\n",
       "    .dataframe thead th {\n",
       "        text-align: right;\n",
       "    }\n",
       "</style>\n",
       "<table border=\"1\" class=\"dataframe\">\n",
       "  <thead>\n",
       "    <tr style=\"text-align: right;\">\n",
       "      <th></th>\n",
       "      <th>spx</th>\n",
       "      <th>dax</th>\n",
       "      <th>ftse</th>\n",
       "      <th>nikkei</th>\n",
       "      <th>market</th>\n",
       "    </tr>\n",
       "    <tr>\n",
       "      <th>date</th>\n",
       "      <th></th>\n",
       "      <th></th>\n",
       "      <th></th>\n",
       "      <th></th>\n",
       "      <th></th>\n",
       "    </tr>\n",
       "  </thead>\n",
       "  <tbody>\n",
       "    <tr>\n",
       "      <th>2013-04-01</th>\n",
       "      <td>1562.173837</td>\n",
       "      <td>7795.31</td>\n",
       "      <td>6411.74</td>\n",
       "      <td>12135.02</td>\n",
       "      <td>1562.173837</td>\n",
       "    </tr>\n",
       "    <tr>\n",
       "      <th>2013-04-02</th>\n",
       "      <td>1570.252238</td>\n",
       "      <td>7943.87</td>\n",
       "      <td>6490.66</td>\n",
       "      <td>12003.43</td>\n",
       "      <td>1570.252238</td>\n",
       "    </tr>\n",
       "    <tr>\n",
       "      <th>2013-04-03</th>\n",
       "      <td>1553.686978</td>\n",
       "      <td>7874.75</td>\n",
       "      <td>6420.28</td>\n",
       "      <td>12362.20</td>\n",
       "      <td>1553.686978</td>\n",
       "    </tr>\n",
       "    <tr>\n",
       "      <th>2013-04-04</th>\n",
       "      <td>1559.979316</td>\n",
       "      <td>7817.39</td>\n",
       "      <td>6344.11</td>\n",
       "      <td>12634.54</td>\n",
       "      <td>1559.979316</td>\n",
       "    </tr>\n",
       "    <tr>\n",
       "      <th>2013-04-05</th>\n",
       "      <td>1553.278930</td>\n",
       "      <td>7658.75</td>\n",
       "      <td>6249.77</td>\n",
       "      <td>12833.64</td>\n",
       "      <td>1553.278930</td>\n",
       "    </tr>\n",
       "  </tbody>\n",
       "</table>\n",
       "</div>"
      ],
      "text/plain": [
       "                    spx      dax     ftse    nikkei       market\n",
       "date                                                            \n",
       "2013-04-01  1562.173837  7795.31  6411.74  12135.02  1562.173837\n",
       "2013-04-02  1570.252238  7943.87  6490.66  12003.43  1570.252238\n",
       "2013-04-03  1553.686978  7874.75  6420.28  12362.20  1553.686978\n",
       "2013-04-04  1559.979316  7817.39  6344.11  12634.54  1559.979316\n",
       "2013-04-05  1553.278930  7658.75  6249.77  12833.64  1553.278930"
      ]
     },
     "execution_count": 44,
     "metadata": {},
     "output_type": "execute_result"
    }
   ],
   "source": [
    "df_train.tail()"
   ]
  },
  {
   "cell_type": "code",
   "execution_count": 45,
   "id": "7c00cfc2",
   "metadata": {},
   "outputs": [
    {
     "data": {
      "text/html": [
       "<div>\n",
       "<style scoped>\n",
       "    .dataframe tbody tr th:only-of-type {\n",
       "        vertical-align: middle;\n",
       "    }\n",
       "\n",
       "    .dataframe tbody tr th {\n",
       "        vertical-align: top;\n",
       "    }\n",
       "\n",
       "    .dataframe thead th {\n",
       "        text-align: right;\n",
       "    }\n",
       "</style>\n",
       "<table border=\"1\" class=\"dataframe\">\n",
       "  <thead>\n",
       "    <tr style=\"text-align: right;\">\n",
       "      <th></th>\n",
       "      <th>spx</th>\n",
       "      <th>dax</th>\n",
       "      <th>ftse</th>\n",
       "      <th>nikkei</th>\n",
       "      <th>market</th>\n",
       "    </tr>\n",
       "    <tr>\n",
       "      <th>date</th>\n",
       "      <th></th>\n",
       "      <th></th>\n",
       "      <th></th>\n",
       "      <th></th>\n",
       "      <th></th>\n",
       "    </tr>\n",
       "  </thead>\n",
       "  <tbody>\n",
       "    <tr>\n",
       "      <th>2013-04-08</th>\n",
       "      <td>1563.071269</td>\n",
       "      <td>7662.64</td>\n",
       "      <td>6276.94</td>\n",
       "      <td>13192.59</td>\n",
       "      <td>1563.071269</td>\n",
       "    </tr>\n",
       "    <tr>\n",
       "      <th>2013-04-09</th>\n",
       "      <td>1568.607909</td>\n",
       "      <td>7637.51</td>\n",
       "      <td>6313.20</td>\n",
       "      <td>13192.35</td>\n",
       "      <td>1568.607909</td>\n",
       "    </tr>\n",
       "    <tr>\n",
       "      <th>2013-04-10</th>\n",
       "      <td>1587.731827</td>\n",
       "      <td>7810.63</td>\n",
       "      <td>6387.37</td>\n",
       "      <td>13288.13</td>\n",
       "      <td>1587.731827</td>\n",
       "    </tr>\n",
       "    <tr>\n",
       "      <th>2013-04-11</th>\n",
       "      <td>1593.369863</td>\n",
       "      <td>7871.63</td>\n",
       "      <td>6416.14</td>\n",
       "      <td>13549.16</td>\n",
       "      <td>1593.369863</td>\n",
       "    </tr>\n",
       "    <tr>\n",
       "      <th>2013-04-12</th>\n",
       "      <td>1588.854623</td>\n",
       "      <td>7744.77</td>\n",
       "      <td>6384.39</td>\n",
       "      <td>13485.14</td>\n",
       "      <td>1588.854623</td>\n",
       "    </tr>\n",
       "  </tbody>\n",
       "</table>\n",
       "</div>"
      ],
      "text/plain": [
       "                    spx      dax     ftse    nikkei       market\n",
       "date                                                            \n",
       "2013-04-08  1563.071269  7662.64  6276.94  13192.59  1563.071269\n",
       "2013-04-09  1568.607909  7637.51  6313.20  13192.35  1568.607909\n",
       "2013-04-10  1587.731827  7810.63  6387.37  13288.13  1587.731827\n",
       "2013-04-11  1593.369863  7871.63  6416.14  13549.16  1593.369863\n",
       "2013-04-12  1588.854623  7744.77  6384.39  13485.14  1588.854623"
      ]
     },
     "execution_count": 45,
     "metadata": {},
     "output_type": "execute_result"
    }
   ],
   "source": [
    "df_test.head()"
   ]
  },
  {
   "cell_type": "markdown",
   "id": "44859eda",
   "metadata": {},
   "source": [
    "### White Noice - It is a special type of time-series, where the data doesn't follow a pattern"
   ]
  },
  {
   "cell_type": "markdown",
   "id": "98f74330",
   "metadata": {},
   "source": [
    "### Conditions for Stationarity/ White Noice:-\n",
    "\n",
    "### 1. Constant mean\n",
    "### 2. Constant Variance\n",
    "### 3. No autocorrelation in any period : Autocorrelation measures how correlated a series is with past versions of itself."
   ]
  },
  {
   "cell_type": "markdown",
   "id": "a4d97a87",
   "metadata": {},
   "source": [
    "## No Autocorrelation means that their is no clear relationship between the past and present values."
   ]
  },
  {
   "cell_type": "code",
   "execution_count": 46,
   "id": "633360bf",
   "metadata": {},
   "outputs": [
    {
     "name": "stderr",
     "output_type": "stream",
     "text": [
      "<ipython-input-46-ab34ae92c715>:5: SettingWithCopyWarning: \n",
      "A value is trying to be set on a copy of a slice from a DataFrame.\n",
      "Try using .loc[row_indexer,col_indexer] = value instead\n",
      "\n",
      "See the caveats in the documentation: https://pandas.pydata.org/pandas-docs/stable/user_guide/indexing.html#returning-a-view-versus-a-copy\n",
      "  df_train['wn'] = wn\n"
     ]
    }
   ],
   "source": [
    "# Making hypothetical white noice data.\n",
    "\n",
    "wn = np.random.normal(loc = df_train.market.mean(), scale = df_train.market.std(), size= len(df_train))\n",
    "\n",
    "df_train['wn'] = wn\n"
   ]
  },
  {
   "cell_type": "code",
   "execution_count": 47,
   "id": "07a295a8",
   "metadata": {},
   "outputs": [
    {
     "data": {
      "text/html": [
       "<div>\n",
       "<style scoped>\n",
       "    .dataframe tbody tr th:only-of-type {\n",
       "        vertical-align: middle;\n",
       "    }\n",
       "\n",
       "    .dataframe tbody tr th {\n",
       "        vertical-align: top;\n",
       "    }\n",
       "\n",
       "    .dataframe thead th {\n",
       "        text-align: right;\n",
       "    }\n",
       "</style>\n",
       "<table border=\"1\" class=\"dataframe\">\n",
       "  <thead>\n",
       "    <tr style=\"text-align: right;\">\n",
       "      <th></th>\n",
       "      <th>spx</th>\n",
       "      <th>dax</th>\n",
       "      <th>ftse</th>\n",
       "      <th>nikkei</th>\n",
       "      <th>market</th>\n",
       "      <th>wn</th>\n",
       "    </tr>\n",
       "  </thead>\n",
       "  <tbody>\n",
       "    <tr>\n",
       "      <th>count</th>\n",
       "      <td>5021.000000</td>\n",
       "      <td>5021.000000</td>\n",
       "      <td>5021.000000</td>\n",
       "      <td>5017.000000</td>\n",
       "      <td>5021.000000</td>\n",
       "      <td>5021.000000</td>\n",
       "    </tr>\n",
       "    <tr>\n",
       "      <th>mean</th>\n",
       "      <td>1091.651926</td>\n",
       "      <td>4983.708716</td>\n",
       "      <td>5089.701492</td>\n",
       "      <td>13878.186121</td>\n",
       "      <td>1091.651926</td>\n",
       "      <td>1095.568313</td>\n",
       "    </tr>\n",
       "    <tr>\n",
       "      <th>std</th>\n",
       "      <td>292.559287</td>\n",
       "      <td>1714.071511</td>\n",
       "      <td>1017.113459</td>\n",
       "      <td>4034.577272</td>\n",
       "      <td>292.559287</td>\n",
       "      <td>290.595097</td>\n",
       "    </tr>\n",
       "    <tr>\n",
       "      <th>min</th>\n",
       "      <td>438.920000</td>\n",
       "      <td>1911.700000</td>\n",
       "      <td>2876.600000</td>\n",
       "      <td>7054.980000</td>\n",
       "      <td>438.920000</td>\n",
       "      <td>81.885136</td>\n",
       "    </tr>\n",
       "    <tr>\n",
       "      <th>25%</th>\n",
       "      <td>914.620000</td>\n",
       "      <td>3733.930000</td>\n",
       "      <td>4274.040000</td>\n",
       "      <td>10220.850000</td>\n",
       "      <td>914.620000</td>\n",
       "      <td>900.127590</td>\n",
       "    </tr>\n",
       "    <tr>\n",
       "      <th>50%</th>\n",
       "      <td>1144.650000</td>\n",
       "      <td>5124.130000</td>\n",
       "      <td>5266.060000</td>\n",
       "      <td>13493.350000</td>\n",
       "      <td>1144.650000</td>\n",
       "      <td>1098.375579</td>\n",
       "    </tr>\n",
       "    <tr>\n",
       "      <th>75%</th>\n",
       "      <td>1316.280729</td>\n",
       "      <td>6342.420000</td>\n",
       "      <td>5917.800000</td>\n",
       "      <td>17248.890000</td>\n",
       "      <td>1316.280729</td>\n",
       "      <td>1292.318897</td>\n",
       "    </tr>\n",
       "    <tr>\n",
       "      <th>max</th>\n",
       "      <td>1570.252238</td>\n",
       "      <td>8105.690000</td>\n",
       "      <td>6930.200000</td>\n",
       "      <td>22666.700000</td>\n",
       "      <td>1570.252238</td>\n",
       "      <td>2228.088731</td>\n",
       "    </tr>\n",
       "  </tbody>\n",
       "</table>\n",
       "</div>"
      ],
      "text/plain": [
       "               spx          dax         ftse        nikkei       market  \\\n",
       "count  5021.000000  5021.000000  5021.000000   5017.000000  5021.000000   \n",
       "mean   1091.651926  4983.708716  5089.701492  13878.186121  1091.651926   \n",
       "std     292.559287  1714.071511  1017.113459   4034.577272   292.559287   \n",
       "min     438.920000  1911.700000  2876.600000   7054.980000   438.920000   \n",
       "25%     914.620000  3733.930000  4274.040000  10220.850000   914.620000   \n",
       "50%    1144.650000  5124.130000  5266.060000  13493.350000  1144.650000   \n",
       "75%    1316.280729  6342.420000  5917.800000  17248.890000  1316.280729   \n",
       "max    1570.252238  8105.690000  6930.200000  22666.700000  1570.252238   \n",
       "\n",
       "                wn  \n",
       "count  5021.000000  \n",
       "mean   1095.568313  \n",
       "std     290.595097  \n",
       "min      81.885136  \n",
       "25%     900.127590  \n",
       "50%    1098.375579  \n",
       "75%    1292.318897  \n",
       "max    2228.088731  "
      ]
     },
     "execution_count": 47,
     "metadata": {},
     "output_type": "execute_result"
    }
   ],
   "source": [
    "df_train.describe()"
   ]
  },
  {
   "cell_type": "code",
   "execution_count": 48,
   "id": "088cf7b3",
   "metadata": {},
   "outputs": [
    {
     "data": {
      "image/png": "[encoded data removed]",
      "text/plain": [
       "<Figure size 1440x360 with 1 Axes>"
      ]
     },
     "metadata": {
      "needs_background": "light"
     },
     "output_type": "display_data"
    }
   ],
   "source": [
    "df_train.wn.plot(figsize=(20,5))\n",
    "plt.title(\"White Noice Time Series\", size=24)\n",
    "plt.show()"
   ]
  },
  {
   "cell_type": "code",
   "execution_count": 49,
   "id": "e7f14162",
   "metadata": {},
   "outputs": [
    {
     "data": {
      "image/png": "[encoded data removed]",
      "text/plain": [
       "<Figure size 1440x360 with 1 Axes>"
      ]
     },
     "metadata": {
      "needs_background": "light"
     },
     "output_type": "display_data"
    }
   ],
   "source": [
    "df_train.market.plot(figsize=(20,5))\n",
    "plt.title(\"S&P Prices Time Series\", size=24)\n",
    "plt.ylim(0,2300)\n",
    "plt.show()"
   ]
  },
  {
   "cell_type": "markdown",
   "id": "1ff57db1",
   "metadata": {},
   "source": [
    "## Random Walk : It is a special type of time-series, where values tend to persist over time and the difference between periods are simply white noice\n",
    "\n",
    "### Some characteristics of Random Walk:-\n",
    "\n",
    "### 1. The differences between periods are simply White Noice.\n",
    "\n",
    "### 2. The best estimator for today's value is yesterday's value.\n",
    "\n",
    "### 3. The best estimator for tomorrow's value is today's value."
   ]
  },
  {
   "cell_type": "code",
   "execution_count": 50,
   "id": "85d61109",
   "metadata": {},
   "outputs": [],
   "source": [
    "rw = pd.read_csv('RandWalk.csv')\n",
    "rw.date = pd.to_datetime(rw.date, dayfirst=True)\n",
    "rw.set_index(\"date\", inplace=True)\n",
    "rw = rw.asfreq('b')"
   ]
  },
  {
   "cell_type": "code",
   "execution_count": 51,
   "id": "c73e0ea5",
   "metadata": {},
   "outputs": [
    {
     "data": {
      "text/html": [
       "<div>\n",
       "<style scoped>\n",
       "    .dataframe tbody tr th:only-of-type {\n",
       "        vertical-align: middle;\n",
       "    }\n",
       "\n",
       "    .dataframe tbody tr th {\n",
       "        vertical-align: top;\n",
       "    }\n",
       "\n",
       "    .dataframe thead th {\n",
       "        text-align: right;\n",
       "    }\n",
       "</style>\n",
       "<table border=\"1\" class=\"dataframe\">\n",
       "  <thead>\n",
       "    <tr style=\"text-align: right;\">\n",
       "      <th></th>\n",
       "      <th>price</th>\n",
       "    </tr>\n",
       "  </thead>\n",
       "  <tbody>\n",
       "    <tr>\n",
       "      <th>count</th>\n",
       "      <td>5021.000000</td>\n",
       "    </tr>\n",
       "    <tr>\n",
       "      <th>mean</th>\n",
       "      <td>1269.944293</td>\n",
       "    </tr>\n",
       "    <tr>\n",
       "      <th>std</th>\n",
       "      <td>444.216793</td>\n",
       "    </tr>\n",
       "    <tr>\n",
       "      <th>min</th>\n",
       "      <td>585.483034</td>\n",
       "    </tr>\n",
       "    <tr>\n",
       "      <th>25%</th>\n",
       "      <td>931.550429</td>\n",
       "    </tr>\n",
       "    <tr>\n",
       "      <th>50%</th>\n",
       "      <td>1156.363045</td>\n",
       "    </tr>\n",
       "    <tr>\n",
       "      <th>75%</th>\n",
       "      <td>1488.362029</td>\n",
       "    </tr>\n",
       "    <tr>\n",
       "      <th>max</th>\n",
       "      <td>2715.508720</td>\n",
       "    </tr>\n",
       "  </tbody>\n",
       "</table>\n",
       "</div>"
      ],
      "text/plain": [
       "             price\n",
       "count  5021.000000\n",
       "mean   1269.944293\n",
       "std     444.216793\n",
       "min     585.483034\n",
       "25%     931.550429\n",
       "50%    1156.363045\n",
       "75%    1488.362029\n",
       "max    2715.508720"
      ]
     },
     "execution_count": 51,
     "metadata": {},
     "output_type": "execute_result"
    }
   ],
   "source": [
    "rw.describe()"
   ]
  },
  {
   "cell_type": "code",
   "execution_count": 52,
   "id": "70ca2d40",
   "metadata": {},
   "outputs": [
    {
     "name": "stderr",
     "output_type": "stream",
     "text": [
      "<ipython-input-52-3b0c2d370185>:1: SettingWithCopyWarning: \n",
      "A value is trying to be set on a copy of a slice from a DataFrame.\n",
      "Try using .loc[row_indexer,col_indexer] = value instead\n",
      "\n",
      "See the caveats in the documentation: https://pandas.pydata.org/pandas-docs/stable/user_guide/indexing.html#returning-a-view-versus-a-copy\n",
      "  df_train['rw'] = rw.price\n"
     ]
    },
    {
     "data": {
      "text/html": [
       "<div>\n",
       "<style scoped>\n",
       "    .dataframe tbody tr th:only-of-type {\n",
       "        vertical-align: middle;\n",
       "    }\n",
       "\n",
       "    .dataframe tbody tr th {\n",
       "        vertical-align: top;\n",
       "    }\n",
       "\n",
       "    .dataframe thead th {\n",
       "        text-align: right;\n",
       "    }\n",
       "</style>\n",
       "<table border=\"1\" class=\"dataframe\">\n",
       "  <thead>\n",
       "    <tr style=\"text-align: right;\">\n",
       "      <th></th>\n",
       "      <th>spx</th>\n",
       "      <th>dax</th>\n",
       "      <th>ftse</th>\n",
       "      <th>nikkei</th>\n",
       "      <th>market</th>\n",
       "      <th>wn</th>\n",
       "      <th>rw</th>\n",
       "    </tr>\n",
       "    <tr>\n",
       "      <th>date</th>\n",
       "      <th></th>\n",
       "      <th></th>\n",
       "      <th></th>\n",
       "      <th></th>\n",
       "      <th></th>\n",
       "      <th></th>\n",
       "      <th></th>\n",
       "    </tr>\n",
       "  </thead>\n",
       "  <tbody>\n",
       "    <tr>\n",
       "      <th>1994-01-07</th>\n",
       "      <td>469.90</td>\n",
       "      <td>2224.95</td>\n",
       "      <td>3445.98</td>\n",
       "      <td>18124.01</td>\n",
       "      <td>469.90</td>\n",
       "      <td>1182.545765</td>\n",
       "      <td>1122.139662</td>\n",
       "    </tr>\n",
       "    <tr>\n",
       "      <th>1994-01-10</th>\n",
       "      <td>475.27</td>\n",
       "      <td>2225.00</td>\n",
       "      <td>3440.58</td>\n",
       "      <td>18443.44</td>\n",
       "      <td>475.27</td>\n",
       "      <td>1144.606969</td>\n",
       "      <td>1080.347860</td>\n",
       "    </tr>\n",
       "    <tr>\n",
       "      <th>1994-01-11</th>\n",
       "      <td>474.13</td>\n",
       "      <td>2228.10</td>\n",
       "      <td>3413.77</td>\n",
       "      <td>18485.25</td>\n",
       "      <td>474.13</td>\n",
       "      <td>1026.262566</td>\n",
       "      <td>1082.095245</td>\n",
       "    </tr>\n",
       "    <tr>\n",
       "      <th>1994-01-12</th>\n",
       "      <td>474.17</td>\n",
       "      <td>2182.06</td>\n",
       "      <td>3372.02</td>\n",
       "      <td>18793.88</td>\n",
       "      <td>474.17</td>\n",
       "      <td>1465.376065</td>\n",
       "      <td>1083.639265</td>\n",
       "    </tr>\n",
       "    <tr>\n",
       "      <th>1994-01-13</th>\n",
       "      <td>472.47</td>\n",
       "      <td>2142.37</td>\n",
       "      <td>3360.01</td>\n",
       "      <td>18577.26</td>\n",
       "      <td>472.47</td>\n",
       "      <td>906.796938</td>\n",
       "      <td>1067.146255</td>\n",
       "    </tr>\n",
       "  </tbody>\n",
       "</table>\n",
       "</div>"
      ],
      "text/plain": [
       "               spx      dax     ftse    nikkei  market           wn  \\\n",
       "date                                                                  \n",
       "1994-01-07  469.90  2224.95  3445.98  18124.01  469.90  1182.545765   \n",
       "1994-01-10  475.27  2225.00  3440.58  18443.44  475.27  1144.606969   \n",
       "1994-01-11  474.13  2228.10  3413.77  18485.25  474.13  1026.262566   \n",
       "1994-01-12  474.17  2182.06  3372.02  18793.88  474.17  1465.376065   \n",
       "1994-01-13  472.47  2142.37  3360.01  18577.26  472.47   906.796938   \n",
       "\n",
       "                     rw  \n",
       "date                     \n",
       "1994-01-07  1122.139662  \n",
       "1994-01-10  1080.347860  \n",
       "1994-01-11  1082.095245  \n",
       "1994-01-12  1083.639265  \n",
       "1994-01-13  1067.146255  "
      ]
     },
     "execution_count": 52,
     "metadata": {},
     "output_type": "execute_result"
    }
   ],
   "source": [
    "df_train['rw'] = rw.price\n",
    "df_train.head()"
   ]
  },
  {
   "cell_type": "code",
   "execution_count": 53,
   "id": "1d1cb943",
   "metadata": {},
   "outputs": [
    {
     "data": {
      "image/png": "[encoded data removed]",
      "text/plain": [
       "<Figure size 1440x360 with 1 Axes>"
      ]
     },
     "metadata": {
      "needs_background": "light"
     },
     "output_type": "display_data"
    }
   ],
   "source": [
    "# plotting the random walk data.\n",
    "df_train.rw.plot(figsize=(20,5), color='green')\n",
    "df_train.market.plot(color='orange')\n",
    "plt.title(\"Random Walk data vs S&P\", size=24)\n",
    "plt.show()"
   ]
  },
  {
   "cell_type": "markdown",
   "id": "a1f2fa20",
   "metadata": {},
   "source": [
    "##  Marketing efficiency - It measure the level of difficulty in forecasting the correct future values.\n",
    "\n",
    "### In general if a time series resembles a random walk than the prices can't be predicted with great accuracy.\n",
    "\n",
    "### If Prices can't be predicted with great accuracy than their is an arbitrage opportunities.\n",
    "\n",
    "### Arbitrage - when investors are able to buy and sell commodities and make a safe profit, while the price adjusts."
   ]
  },
  {
   "cell_type": "code",
   "execution_count": null,
   "id": "04d882bb",
   "metadata": {},
   "outputs": [],
   "source": []
  },
  {
   "cell_type": "markdown",
   "id": "5a27d477",
   "metadata": {},
   "source": [
    "### Weak Stationarity - It implies that when taking consecutive samples of data with the same size should have identical covariances regardless of the starting point.\n",
    "\n",
    "#### This characteristic of data is also called weak-form stationarity or covariance stationarity."
   ]
  },
  {
   "cell_type": "markdown",
   "id": "d8d4d0d4",
   "metadata": {},
   "source": [
    "### Assumptions of Covariance Stationarity assumptions:-\n",
    "#### 1. Constant mean\n",
    "#### 2. constant variance\n",
    "#### 3. consistent covariance between periods at an identical distance from one another.\n",
    "\n",
    "eg1 --> cov(x1,x4) = cov(x3,x6)\n",
    "\n",
    "eg2 of weak form stationarity is White Noise\n",
    "\n",
    "since white noice has autocorrelation- correlation of x with its past self as zero, we will also have cov(xt,xt-1) = 0\n",
    "\n",
    "cov(xt, xt-1) = corr(xt, xt-1) * std(xt)*std(xt-1) = 0"
   ]
  },
  {
   "cell_type": "markdown",
   "id": "af2ccee3",
   "metadata": {},
   "source": [
    "## Strict stationarity - it implies that when taking samples of identical sizes will have identical distributions.\n",
    "\n",
    "Distribution of (x1,x4) = distribution of (x3,x6)\n",
    "\n",
    "Since this case is very restrictive it is rarely observed in the analytics world. Thus, the business analytics community has accepted the defination of stationarity = covariance/ weak stationarity"
   ]
  },
  {
   "cell_type": "markdown",
   "id": "25bc3e72",
   "metadata": {},
   "source": [
    "## Checking whether a data is stationary or not."
   ]
  },
  {
   "cell_type": "markdown",
   "id": "e6309f0f",
   "metadata": {},
   "source": [
    "### We use Dickey-fuller test to check whether a data is stationary or not.\n",
    "\n",
    "### Null Hypothesis : we assume that their is no stationarity in data. In technical terms, it assumes that the one lag autocorrelation coefficient is lower than 1.\n",
    "\n",
    "### Alternate Hypothesis : we assume that their is stationarity in data. In technical terms, it assumes that the one lag autocorrelation coefficient is equal to 1.\n",
    "\n",
    "## Empirical rule:-\n",
    "\n",
    "### If test statistic < critical value: we reject the null and data is stationary."
   ]
  },
  {
   "cell_type": "code",
   "execution_count": 54,
   "id": "fc12ced3",
   "metadata": {},
   "outputs": [],
   "source": [
    "import statsmodels.tsa.stattools as sts"
   ]
  },
  {
   "cell_type": "code",
   "execution_count": 55,
   "id": "13033483",
   "metadata": {},
   "outputs": [
    {
     "data": {
      "text/plain": [
       "'\\n-------\\nadf : test statistic.\\npvalue : MacKinnon\"s approximate p-value based on MacKinnon (1994, 2010).\\nusedlag : The number of lags used to determine t statistic.\\nnobs : The number of observations used for the ADF regression and calculation\\nof the critical values.\\ncritical values : Critical values for the test statistic at the 1 %, 5 %, and 10 %\\nlevels. Based on MacKinnon (2010).\\n\\n'"
      ]
     },
     "execution_count": 55,
     "metadata": {},
     "output_type": "execute_result"
    }
   ],
   "source": [
    "# Returns\n",
    "'''\n",
    "-------\n",
    "adf : test statistic.\n",
    "pvalue : MacKinnon\"s approximate p-value based on MacKinnon (1994, 2010).\n",
    "usedlag : The number of lags used to determine t statistic.\n",
    "nobs : The number of observations used for the ADF regression and calculation\n",
    "of the critical values.\n",
    "critical values : Critical values for the test statistic at the 1 %, 5 %, and 10 %\n",
    "levels. Based on MacKinnon (2010).\n",
    "\n",
    "'''"
   ]
  },
  {
   "cell_type": "code",
   "execution_count": 56,
   "id": "16693212",
   "metadata": {},
   "outputs": [
    {
     "data": {
      "text/plain": [
       "(-1.736984745235244,\n",
       " 0.41216456967706194,\n",
       " 18,\n",
       " 5002,\n",
       " {'1%': -3.431658008603046,\n",
       "  '5%': -2.862117998412982,\n",
       "  '10%': -2.567077669247375},\n",
       " 39904.880607487445)"
      ]
     },
     "execution_count": 56,
     "metadata": {},
     "output_type": "execute_result"
    }
   ],
   "source": [
    "sts.adfuller(df_train.market)"
   ]
  },
  {
   "cell_type": "code",
   "execution_count": 57,
   "id": "ac7c7d4a",
   "metadata": {},
   "outputs": [],
   "source": [
    "# Since t statistic is greater than all the critical values at different\n",
    "# confidence intervals. we accept the null hypothesis and Our data \n",
    "# is not stationary in nature"
   ]
  },
  {
   "cell_type": "markdown",
   "id": "300bce0d",
   "metadata": {},
   "source": [
    "### the p value (0.41) shows the probability of not rejecting the null hypotheis"
   ]
  },
  {
   "cell_type": "markdown",
   "id": "5523be24",
   "metadata": {},
   "source": [
    "## ADF on white Noice"
   ]
  },
  {
   "cell_type": "code",
   "execution_count": 58,
   "id": "dff531fa",
   "metadata": {},
   "outputs": [
    {
     "data": {
      "text/plain": [
       "(-19.734022581444112,\n",
       " 0.0,\n",
       " 12,\n",
       " 5008,\n",
       " {'1%': -3.431656440695734,\n",
       "  '5%': -2.862117305719603,\n",
       "  '10%': -2.5670773004997116},\n",
       " 70728.21818407596)"
      ]
     },
     "execution_count": 58,
     "metadata": {},
     "output_type": "execute_result"
    }
   ],
   "source": [
    "sts.adfuller(df_train.wn)"
   ]
  },
  {
   "cell_type": "markdown",
   "id": "233ca057",
   "metadata": {},
   "source": [
    "### white noice is stationary.\n",
    "### Here t statistic is less than critical value.\n",
    "### no autocorrelation ensures that the used lag (3rd) value is 1"
   ]
  },
  {
   "cell_type": "markdown",
   "id": "233a7613",
   "metadata": {},
   "source": [
    "## ADF on Random Walk"
   ]
  },
  {
   "cell_type": "code",
   "execution_count": 59,
   "id": "69b24c03",
   "metadata": {},
   "outputs": [
    {
     "data": {
      "text/plain": [
       "(-1.3286073927689717,\n",
       " 0.6159849181617385,\n",
       " 24,\n",
       " 4996,\n",
       " {'1%': -3.4316595802782865,\n",
       "  '5%': -2.8621186927706463,\n",
       "  '10%': -2.567078038881065},\n",
       " 46299.333497595144)"
      ]
     },
     "execution_count": 59,
     "metadata": {},
     "output_type": "execute_result"
    }
   ],
   "source": [
    "sts.adfuller(df_train.rw)"
   ]
  },
  {
   "cell_type": "code",
   "execution_count": 60,
   "id": "52576ab9",
   "metadata": {},
   "outputs": [
    {
     "data": {
      "text/plain": [
       "'\\nHow do we interpret a p-value result of 0.04 as an outcome of the Augmented Dickey-Fuller test?\\n\\nThe data in question is stationary, assuming 5% significance level.\\n'"
      ]
     },
     "execution_count": 60,
     "metadata": {},
     "output_type": "execute_result"
    }
   ],
   "source": [
    "'''\n",
    "How do we interpret a p-value result of 0.04 as an outcome of the Augmented Dickey-Fuller test?\n",
    "\n",
    "The data in question is stationary, assuming 5% significance level.\n",
    "'''"
   ]
  },
  {
   "cell_type": "markdown",
   "id": "488e23ec",
   "metadata": {},
   "source": [
    "## Seasonality\n",
    "\n",
    "It suggests that certain trends will appear on a cyclical basis. To check seasonality of data we can decompose the time series into 3 effects:-\n",
    "\n",
    "1. trend -  Pattern present throughout the data.\n",
    "2. seasonal - It shows the cyclical effects that repeat in data\n",
    "3. residual - Error of prediction (diff between actual data - predicted value)"
   ]
  },
  {
   "cell_type": "markdown",
   "id": "44c6d113",
   "metadata": {},
   "source": [
    "### Naive Decomposition: we expect a linear relationship between the three pattern and the time series. The decomposition is shown in the following two types:-\n",
    "\n",
    "1. Additive: observed = trend + seasonal + residual\n",
    "2. Multiplicative: observed = trend * seasonal * residual\n"
   ]
  },
  {
   "cell_type": "code",
   "execution_count": 61,
   "id": "20f5aac5",
   "metadata": {},
   "outputs": [],
   "source": [
    "from statsmodels.tsa.seasonal import seasonal_decompose"
   ]
  },
  {
   "cell_type": "code",
   "execution_count": 62,
   "id": "474b9b3d",
   "metadata": {},
   "outputs": [
    {
     "data": {
      "image/png": "[encoded data removed]",
      "text/plain": [
       "<Figure size 432x288 with 4 Axes>"
      ]
     },
     "metadata": {
      "needs_background": "light"
     },
     "output_type": "display_data"
    }
   ],
   "source": [
    "s_dec_additive = seasonal_decompose(df_train.market,model = 'additive' )\n",
    "s_dec_additive.plot()\n",
    "plt.show()"
   ]
  },
  {
   "cell_type": "code",
   "execution_count": 63,
   "id": "2aa01d7d",
   "metadata": {},
   "outputs": [
    {
     "data": {
      "image/png": "[encoded data removed]",
      "text/plain": [
       "<Figure size 432x288 with 4 Axes>"
      ]
     },
     "metadata": {
      "needs_background": "light"
     },
     "output_type": "display_data"
    }
   ],
   "source": [
    "s_dec_multiplicative = seasonal_decompose(df_train.market,model = 'multiplicative' )\n",
    "s_dec_multiplicative.plot()\n",
    "plt.show()"
   ]
  },
  {
   "cell_type": "markdown",
   "id": "5993af82",
   "metadata": {},
   "source": [
    "### Autocorrelation - There is a correlation between the values of the time series and a lagged version of itself."
   ]
  },
  {
   "cell_type": "markdown",
   "id": "dc11e468",
   "metadata": {},
   "source": [
    "## ACF"
   ]
  },
  {
   "cell_type": "markdown",
   "id": "1a855739",
   "metadata": {},
   "source": [
    "Autocorrelation function (ACF) : It calculates the correlation (similarities) value for how many lags we are intreseted in our model. \n",
    "\n",
    "1. It shows the relationship between past lag values with the current value.\n",
    "\n",
    "2. It is mostly used to calculate the q value for Moving Average part of ARIMA model.\n",
    "\n",
    "3. ACF contains both the direct and the indirect effect of past lags upon  the current time series.\n",
    "\n",
    "    "
   ]
  },
  {
   "cell_type": "code",
   "execution_count": 64,
   "id": "a8c30516",
   "metadata": {},
   "outputs": [],
   "source": [
    "import statsmodels.graphics.tsaplots as sgt"
   ]
  },
  {
   "cell_type": "code",
   "execution_count": 65,
   "id": "c7d9cb6d",
   "metadata": {},
   "outputs": [
    {
     "data": {
      "image/png": "[encoded data removed]",
      "text/plain": [
       "<Figure size 432x288 with 1 Axes>"
      ]
     },
     "metadata": {
      "needs_background": "light"
     },
     "output_type": "display_data"
    }
   ],
   "source": [
    "# Here the zero value denotes whether we want to include the current time period values or not.\n",
    "\n",
    "sgt.plot_acf(df_train.market, lags = 40, zero =False )\n",
    "plt.title(\"ACF S&P\", size=14)\n",
    "plt.show()"
   ]
  },
  {
   "cell_type": "code",
   "execution_count": 66,
   "id": "634a9d17",
   "metadata": {},
   "outputs": [
    {
     "data": {
      "image/png": "[encoded data removed]",
      "text/plain": [
       "<Figure size 432x288 with 1 Axes>"
      ]
     },
     "metadata": {
      "needs_background": "light"
     },
     "output_type": "display_data"
    }
   ],
   "source": [
    "# ACF of white noise model\n",
    "sgt.plot_acf(df_train.wn, lags = 40, zero =False )\n",
    "plt.title(\"ACF White Noise\", size=14)\n",
    "plt.show()"
   ]
  },
  {
   "cell_type": "markdown",
   "id": "e8c6e7e9",
   "metadata": {},
   "source": [
    "As we can clearly observe from the above ACF plot, most of the lag values \n",
    "lie within the insignificant zone of ACF graph which adhere to the defination\n",
    "of white noice having no autocorrelation."
   ]
  },
  {
   "cell_type": "code",
   "execution_count": 67,
   "id": "cee4517c",
   "metadata": {},
   "outputs": [
    {
     "data": {
      "image/png": "[encoded data removed]",
      "text/plain": [
       "<Figure size 432x288 with 1 Axes>"
      ]
     },
     "metadata": {
      "needs_background": "light"
     },
     "output_type": "display_data"
    }
   ],
   "source": [
    "# ACF of white noise model\n",
    "sgt.plot_acf(df_train.rw, lags = 40, zero =False )\n",
    "plt.title(\"ACF Random Walk\", size=14)\n",
    "plt.show()"
   ]
  },
  {
   "cell_type": "markdown",
   "id": "0a4c1787",
   "metadata": {},
   "source": [
    "## PACF"
   ]
  },
  {
   "cell_type": "markdown",
   "id": "f388f604",
   "metadata": {},
   "source": [
    "We use partial autocorrelation to calculate the direct effect of the past values upon the current time value.\n",
    "\n",
    "The PACF function cancels out all additional channels a previous period value affects the present one."
   ]
  },
  {
   "cell_type": "code",
   "execution_count": 68,
   "id": "d6e8975c",
   "metadata": {},
   "outputs": [
    {
     "data": {
      "image/png": "[encoded data removed]",
      "text/plain": [
       "<Figure size 432x288 with 1 Axes>"
      ]
     },
     "metadata": {
      "needs_background": "light"
     },
     "output_type": "display_data"
    }
   ],
   "source": [
    "sgt.plot_pacf(df_train.market, lags= 40 , zero= False, method = ('ols'))\n",
    "plt.title(\"PACF S&P\", size=24)\n",
    "plt.show()"
   ]
  },
  {
   "cell_type": "markdown",
   "id": "a97707c6",
   "metadata": {},
   "source": [
    "As per the above PACF plot, all the lag values beyonf third lag lie wihtn the \n",
    "blue shaded region. This means that :-\n",
    "    \n",
    "1. These lag values are not significantly different from 0 and hence have no importance in them.\n",
    "\n",
    "2. Being positive or negative is somewhat random without any lasting effects."
   ]
  },
  {
   "cell_type": "code",
   "execution_count": 69,
   "id": "c2111fba",
   "metadata": {},
   "outputs": [
    {
     "data": {
      "image/png": "[encoded data removed]",
      "text/plain": [
       "<Figure size 432x288 with 1 Axes>"
      ]
     },
     "metadata": {
      "needs_background": "light"
     },
     "output_type": "display_data"
    }
   ],
   "source": [
    "# Plotting the white noice data using PACF\n",
    "sgt.plot_pacf(df_train.wn, lags= 40 , zero= False, method = ('ols'))\n",
    "plt.title(\"PACF S&P\", size=24)\n",
    "plt.show()"
   ]
  },
  {
   "cell_type": "code",
   "execution_count": 70,
   "id": "318c2fd5",
   "metadata": {
    "scrolled": true
   },
   "outputs": [
    {
     "data": {
      "image/png": "[encoded data removed]",
      "text/plain": [
       "<Figure size 432x288 with 1 Axes>"
      ]
     },
     "metadata": {
      "needs_background": "light"
     },
     "output_type": "display_data"
    }
   ],
   "source": [
    "# Plotting the random walk data using PACF\n",
    "sgt.plot_pacf(df_train.rw, lags= 40 , zero= False, method = ('ols'))\n",
    "plt.title(\"PACF S&P\", size=24)\n",
    "plt.show()"
   ]
  },
  {
   "cell_type": "markdown",
   "id": "eebc2069",
   "metadata": {},
   "source": [
    "The ACF measures the accumulated effects past lags have on the cucrrent value, while the PACF measures the direct effect."
   ]
  },
  {
   "cell_type": "markdown",
   "id": "88ee83f8",
   "metadata": {},
   "source": [
    "# Steps to find the best Model:-\n",
    "    \n",
    "## we usually start with a simple model and expand it further if it follows certain criteria.\n",
    "\n",
    "<b> 1. Significant Coefficients-</b> The new coefficients in a model must be significantly different from zero (check the ACF and PACF for it). If it does not hold true than the coefficients of these estimators are essentially zero and thus does not hold any predictive power.\n",
    "\n",
    "\n",
    "<b> 2. Parsimonious (As simple as possible)-</b> we generally want our models to be simpler unless the complex model shows predictions that are significantly better than simple model.\n",
    "\n",
    "#### we use log likelihood Ratio (LLR) test to test the model's predictive power. Since it can only be applied to models with different degrees of freedom thus, when comparing several models with the same total number of lags, don't use LLR.\n",
    "\n",
    "#### We use information criteria's such as AIC and BIC for each model and lower the coefficients the models requires for accurate predictions. we use the models with low AIC and BIC.\n",
    "\n",
    "<b> 3. Residuals must be white noice (does not contain any trend)-</b> we thus want to be sure that we have't missed on any trend or pattern of the data.\n"
   ]
  },
  {
   "cell_type": "markdown",
   "id": "31898697",
   "metadata": {},
   "source": [
    "<b>If we are comparing two models and we want to choose the better fit, then we choose the one with higher log-likelihood and lower information criteria."
   ]
  },
  {
   "cell_type": "markdown",
   "id": "4d939b8a",
   "metadata": {},
   "source": [
    "## Autoregressive Model"
   ]
  },
  {
   "cell_type": "markdown",
   "id": "029a1c65",
   "metadata": {},
   "source": [
    "### The model is called Autoregressive because it uses a lagged version of itself(auto) to conduct the regression.  \n",
    "\n",
    "### It is a linear model, where the current period values are a sum of past outcomes multiplied by a numeric factor. Following is a 1 lag autoregressive equation.\n",
    "\n",
    "##  $ x_t = C + \\varphi x_{t-1} + \\varepsilon_t$\n",
    "\n",
    "Here:- \n",
    "\n",
    "### 1. $ x_{t-1}$ - The values of X during the previous time period\n",
    "\n",
    "### 2. $\\varphi$ - Any numeric constant by which we multiply the lagged variable. These coefficients must always lie between -1 and 1 because any value greater than 1 will make the predictions greater with each lag value.\n",
    "\n",
    "### 3. $\\varepsilon_t$ - Residual value which is the difference between our prediction for period \"t\" and the correct value. these are usually unpredictable difference."
   ]
  },
  {
   "cell_type": "markdown",
   "id": "a35be95d",
   "metadata": {},
   "source": [
    "### Role of Lags - \n",
    "\n",
    "Given below is an autoregressive equation where lag is 2.\n",
    "\n",
    "###  $ x_t = C + \\varphi_1 x_{t-1} + \\varphi_2 x_{t-2} + \\varepsilon_t$\n",
    "    \n",
    "### The more lags we include the more complicated our model becomes, the more complicated our model becomes the more coefficients we have to determine. Thus, increaing the likelihood that some of them are insignificant coefficients.\n",
    "\n",
    "### The more lags we include, the better our model will fit the dataset we feed into it. Thus, the coefficients might predict the dataset \"too\" well. This makes the model prone to mistakes when forecasting the future."
   ]
  },
  {
   "cell_type": "code",
   "execution_count": 71,
   "id": "d189bc7e",
   "metadata": {},
   "outputs": [
    {
     "data": {
      "text/html": [
       "<div>\n",
       "<style scoped>\n",
       "    .dataframe tbody tr th:only-of-type {\n",
       "        vertical-align: middle;\n",
       "    }\n",
       "\n",
       "    .dataframe tbody tr th {\n",
       "        vertical-align: top;\n",
       "    }\n",
       "\n",
       "    .dataframe thead th {\n",
       "        text-align: right;\n",
       "    }\n",
       "</style>\n",
       "<table border=\"1\" class=\"dataframe\">\n",
       "  <thead>\n",
       "    <tr style=\"text-align: right;\">\n",
       "      <th></th>\n",
       "      <th>spx</th>\n",
       "      <th>dax</th>\n",
       "      <th>ftse</th>\n",
       "      <th>nikkei</th>\n",
       "      <th>market</th>\n",
       "    </tr>\n",
       "    <tr>\n",
       "      <th>date</th>\n",
       "      <th></th>\n",
       "      <th></th>\n",
       "      <th></th>\n",
       "      <th></th>\n",
       "      <th></th>\n",
       "    </tr>\n",
       "  </thead>\n",
       "  <tbody>\n",
       "    <tr>\n",
       "      <th>1994-01-07</th>\n",
       "      <td>469.90</td>\n",
       "      <td>2224.95</td>\n",
       "      <td>3445.98</td>\n",
       "      <td>18124.01</td>\n",
       "      <td>469.90</td>\n",
       "    </tr>\n",
       "    <tr>\n",
       "      <th>1994-01-10</th>\n",
       "      <td>475.27</td>\n",
       "      <td>2225.00</td>\n",
       "      <td>3440.58</td>\n",
       "      <td>18443.44</td>\n",
       "      <td>475.27</td>\n",
       "    </tr>\n",
       "    <tr>\n",
       "      <th>1994-01-11</th>\n",
       "      <td>474.13</td>\n",
       "      <td>2228.10</td>\n",
       "      <td>3413.77</td>\n",
       "      <td>18485.25</td>\n",
       "      <td>474.13</td>\n",
       "    </tr>\n",
       "    <tr>\n",
       "      <th>1994-01-12</th>\n",
       "      <td>474.17</td>\n",
       "      <td>2182.06</td>\n",
       "      <td>3372.02</td>\n",
       "      <td>18793.88</td>\n",
       "      <td>474.17</td>\n",
       "    </tr>\n",
       "    <tr>\n",
       "      <th>1994-01-13</th>\n",
       "      <td>472.47</td>\n",
       "      <td>2142.37</td>\n",
       "      <td>3360.01</td>\n",
       "      <td>18577.26</td>\n",
       "      <td>472.47</td>\n",
       "    </tr>\n",
       "  </tbody>\n",
       "</table>\n",
       "</div>"
      ],
      "text/plain": [
       "               spx      dax     ftse    nikkei  market\n",
       "date                                                  \n",
       "1994-01-07  469.90  2224.95  3445.98  18124.01  469.90\n",
       "1994-01-10  475.27  2225.00  3440.58  18443.44  475.27\n",
       "1994-01-11  474.13  2228.10  3413.77  18485.25  474.13\n",
       "1994-01-12  474.17  2182.06  3372.02  18793.88  474.17\n",
       "1994-01-13  472.47  2142.37  3360.01  18577.26  472.47"
      ]
     },
     "execution_count": 71,
     "metadata": {},
     "output_type": "execute_result"
    }
   ],
   "source": [
    "df.head()"
   ]
  },
  {
   "cell_type": "code",
   "execution_count": 72,
   "id": "18180436",
   "metadata": {},
   "outputs": [
    {
     "data": {
      "image/png": "[encoded data removed]",
      "text/plain": [
       "<Figure size 432x288 with 1 Axes>"
      ]
     },
     "metadata": {
      "needs_background": "light"
     },
     "output_type": "display_data"
    }
   ],
   "source": [
    "# ACF of white noise model\n",
    "sgt.plot_acf(df.ftse, lags = 40, zero =False )\n",
    "plt.title(\"ACF for FTSE prices\", size=14)\n",
    "plt.show()"
   ]
  },
  {
   "cell_type": "markdown",
   "id": "002d13a3",
   "metadata": {},
   "source": [
    "### For autoregressive models, we only take into account the direct relationship between the current time and the previous lags so we use PACF graphs to find the optimum lag value."
   ]
  },
  {
   "cell_type": "code",
   "execution_count": 73,
   "id": "47678a6e",
   "metadata": {},
   "outputs": [
    {
     "data": {
      "image/png": "[encoded data removed]",
      "text/plain": [
       "<Figure size 432x288 with 1 Axes>"
      ]
     },
     "metadata": {
      "needs_background": "light"
     },
     "output_type": "display_data"
    }
   ],
   "source": [
    "# ACF of white noise model\n",
    "sgt.plot_pacf(df.ftse, lags = 40, zero =False, method=('ols') )\n",
    "plt.title(\"PACF for FTSE prices\", size=14)\n",
    "plt.show()"
   ]
  },
  {
   "cell_type": "markdown",
   "id": "53acbb74",
   "metadata": {},
   "source": [
    "## Making a AR Model with lag(1)"
   ]
  },
  {
   "cell_type": "code",
   "execution_count": 74,
   "id": "3431b4af",
   "metadata": {},
   "outputs": [],
   "source": [
    "from statsmodels.tsa.arima_model import ARMA\n",
    "import warnings\n",
    "warnings.filterwarnings('ignore')"
   ]
  },
  {
   "cell_type": "code",
   "execution_count": 75,
   "id": "a4926096",
   "metadata": {},
   "outputs": [],
   "source": [
    "'''\n",
    "order(p,q):\n",
    "    p - the number of past values we wish to incorporate into the model.\n",
    "    q - the number of residual values we take into consideration.\n",
    "'''    \n",
    "model_ar = ARMA(df_train.ftse, order=(1,0))"
   ]
  },
  {
   "cell_type": "code",
   "execution_count": 76,
   "id": "5ca68e6a",
   "metadata": {},
   "outputs": [],
   "source": [
    "results_ar = model_ar.fit()"
   ]
  },
  {
   "cell_type": "code",
   "execution_count": 77,
   "id": "5a248b85",
   "metadata": {},
   "outputs": [
    {
     "data": {
      "text/html": [
       "<table class=\"simpletable\">\n",
       "<caption>ARMA Model Results</caption>\n",
       "<tr>\n",
       "  <th>Dep. Variable:</th>       <td>ftse</td>       <th>  No. Observations:  </th>    <td>5021</td>   \n",
       "</tr>\n",
       "<tr>\n",
       "  <th>Model:</th>            <td>ARMA(1, 0)</td>    <th>  Log Likelihood     </th> <td>-27622.598</td>\n",
       "</tr>\n",
       "<tr>\n",
       "  <th>Method:</th>             <td>css-mle</td>     <th>  S.D. of innovations</th>   <td>59.258</td>  \n",
       "</tr>\n",
       "<tr>\n",
       "  <th>Date:</th>          <td>Wed, 15 Dec 2021</td> <th>  AIC                </th>  <td>55251.197</td>\n",
       "</tr>\n",
       "<tr>\n",
       "  <th>Time:</th>              <td>09:41:29</td>     <th>  BIC                </th>  <td>55270.761</td>\n",
       "</tr>\n",
       "<tr>\n",
       "  <th>Sample:</th>           <td>01-07-1994</td>    <th>  HQIC               </th>  <td>55258.052</td>\n",
       "</tr>\n",
       "<tr>\n",
       "  <th></th>                 <td>- 04-05-2013</td>   <th>                     </th>      <td> </td>    \n",
       "</tr>\n",
       "</table>\n",
       "<table class=\"simpletable\">\n",
       "<tr>\n",
       "       <td></td>         <th>coef</th>     <th>std err</th>      <th>z</th>      <th>P>|z|</th>  <th>[0.025</th>    <th>0.975]</th>  \n",
       "</tr>\n",
       "<tr>\n",
       "  <th>const</th>      <td> 5018.6390</td> <td>  488.789</td> <td>   10.267</td> <td> 0.000</td> <td> 4060.629</td> <td> 5976.649</td>\n",
       "</tr>\n",
       "<tr>\n",
       "  <th>ar.L1.ftse</th> <td>    0.9985</td> <td>    0.001</td> <td> 1297.244</td> <td> 0.000</td> <td>    0.997</td> <td>    1.000</td>\n",
       "</tr>\n",
       "</table>\n",
       "<table class=\"simpletable\">\n",
       "<caption>Roots</caption>\n",
       "<tr>\n",
       "    <td></td>   <th>            Real</th>  <th>         Imaginary</th> <th>         Modulus</th>  <th>        Frequency</th>\n",
       "</tr>\n",
       "<tr>\n",
       "  <th>AR.1</th> <td>           1.0015</td> <td>          +0.0000j</td> <td>           1.0015</td> <td>           0.0000</td>\n",
       "</tr>\n",
       "</table>"
      ],
      "text/plain": [
       "<class 'statsmodels.iolib.summary.Summary'>\n",
       "\"\"\"\n",
       "                              ARMA Model Results                              \n",
       "==============================================================================\n",
       "Dep. Variable:                   ftse   No. Observations:                 5021\n",
       "Model:                     ARMA(1, 0)   Log Likelihood              -27622.598\n",
       "Method:                       css-mle   S.D. of innovations             59.258\n",
       "Date:                Wed, 15 Dec 2021   AIC                          55251.197\n",
       "Time:                        09:41:29   BIC                          55270.761\n",
       "Sample:                    01-07-1994   HQIC                         55258.052\n",
       "                         - 04-05-2013                                         \n",
       "==============================================================================\n",
       "                 coef    std err          z      P>|z|      [0.025      0.975]\n",
       "------------------------------------------------------------------------------\n",
       "const       5018.6390    488.789     10.267      0.000    4060.629    5976.649\n",
       "ar.L1.ftse     0.9985      0.001   1297.244      0.000       0.997       1.000\n",
       "                                    Roots                                    \n",
       "=============================================================================\n",
       "                  Real          Imaginary           Modulus         Frequency\n",
       "-----------------------------------------------------------------------------\n",
       "AR.1            1.0015           +0.0000j            1.0015            0.0000\n",
       "-----------------------------------------------------------------------------\n",
       "\"\"\""
      ]
     },
     "execution_count": 77,
     "metadata": {},
     "output_type": "execute_result"
    }
   ],
   "source": [
    "results_ar.summary()"
   ]
  },
  {
   "cell_type": "markdown",
   "id": "7b05cf21",
   "metadata": {},
   "source": [
    "## Higher-Lag AR Models"
   ]
  },
  {
   "cell_type": "markdown",
   "id": "a30a3201",
   "metadata": {},
   "source": [
    "## Making a AR Model with lag(2)"
   ]
  },
  {
   "cell_type": "code",
   "execution_count": 78,
   "id": "94be9bc8",
   "metadata": {},
   "outputs": [
    {
     "data": {
      "text/html": [
       "<table class=\"simpletable\">\n",
       "<caption>ARMA Model Results</caption>\n",
       "<tr>\n",
       "  <th>Dep. Variable:</th>       <td>ftse</td>       <th>  No. Observations:  </th>    <td>5021</td>   \n",
       "</tr>\n",
       "<tr>\n",
       "  <th>Model:</th>            <td>ARMA(2, 0)</td>    <th>  Log Likelihood     </th> <td>-27621.869</td>\n",
       "</tr>\n",
       "<tr>\n",
       "  <th>Method:</th>             <td>css-mle</td>     <th>  S.D. of innovations</th>   <td>59.249</td>  \n",
       "</tr>\n",
       "<tr>\n",
       "  <th>Date:</th>          <td>Wed, 15 Dec 2021</td> <th>  AIC                </th>  <td>55251.738</td>\n",
       "</tr>\n",
       "<tr>\n",
       "  <th>Time:</th>              <td>09:41:29</td>     <th>  BIC                </th>  <td>55277.823</td>\n",
       "</tr>\n",
       "<tr>\n",
       "  <th>Sample:</th>           <td>01-07-1994</td>    <th>  HQIC               </th>  <td>55260.878</td>\n",
       "</tr>\n",
       "<tr>\n",
       "  <th></th>                 <td>- 04-05-2013</td>   <th>                     </th>      <td> </td>    \n",
       "</tr>\n",
       "</table>\n",
       "<table class=\"simpletable\">\n",
       "<tr>\n",
       "       <td></td>         <th>coef</th>     <th>std err</th>      <th>z</th>      <th>P>|z|</th>  <th>[0.025</th>    <th>0.975]</th>  \n",
       "</tr>\n",
       "<tr>\n",
       "  <th>const</th>      <td> 5089.7019</td> <td>  495.707</td> <td>   10.268</td> <td> 0.000</td> <td> 4118.134</td> <td> 6061.269</td>\n",
       "</tr>\n",
       "<tr>\n",
       "  <th>ar.L1.ftse</th> <td>    0.9814</td> <td>    0.014</td> <td>   69.593</td> <td> 0.000</td> <td>    0.954</td> <td>    1.009</td>\n",
       "</tr>\n",
       "<tr>\n",
       "  <th>ar.L2.ftse</th> <td>    0.0171</td> <td>    0.014</td> <td>    1.212</td> <td> 0.225</td> <td>   -0.011</td> <td>    0.045</td>\n",
       "</tr>\n",
       "</table>\n",
       "<table class=\"simpletable\">\n",
       "<caption>Roots</caption>\n",
       "<tr>\n",
       "    <td></td>   <th>            Real</th>  <th>         Imaginary</th> <th>         Modulus</th>  <th>        Frequency</th>\n",
       "</tr>\n",
       "<tr>\n",
       "  <th>AR.1</th> <td>           1.0015</td> <td>          +0.0000j</td> <td>           1.0015</td> <td>           0.0000</td>\n",
       "</tr>\n",
       "<tr>\n",
       "  <th>AR.2</th> <td>         -58.3777</td> <td>          +0.0000j</td> <td>          58.3777</td> <td>           0.5000</td>\n",
       "</tr>\n",
       "</table>"
      ],
      "text/plain": [
       "<class 'statsmodels.iolib.summary.Summary'>\n",
       "\"\"\"\n",
       "                              ARMA Model Results                              \n",
       "==============================================================================\n",
       "Dep. Variable:                   ftse   No. Observations:                 5021\n",
       "Model:                     ARMA(2, 0)   Log Likelihood              -27621.869\n",
       "Method:                       css-mle   S.D. of innovations             59.249\n",
       "Date:                Wed, 15 Dec 2021   AIC                          55251.738\n",
       "Time:                        09:41:29   BIC                          55277.823\n",
       "Sample:                    01-07-1994   HQIC                         55260.878\n",
       "                         - 04-05-2013                                         \n",
       "==============================================================================\n",
       "                 coef    std err          z      P>|z|      [0.025      0.975]\n",
       "------------------------------------------------------------------------------\n",
       "const       5089.7019    495.707     10.268      0.000    4118.134    6061.269\n",
       "ar.L1.ftse     0.9814      0.014     69.593      0.000       0.954       1.009\n",
       "ar.L2.ftse     0.0171      0.014      1.212      0.225      -0.011       0.045\n",
       "                                    Roots                                    \n",
       "=============================================================================\n",
       "                  Real          Imaginary           Modulus         Frequency\n",
       "-----------------------------------------------------------------------------\n",
       "AR.1            1.0015           +0.0000j            1.0015            0.0000\n",
       "AR.2          -58.3777           +0.0000j           58.3777            0.5000\n",
       "-----------------------------------------------------------------------------\n",
       "\"\"\""
      ]
     },
     "execution_count": 78,
     "metadata": {},
     "output_type": "execute_result"
    }
   ],
   "source": [
    "'''\n",
    "order(p,q):\n",
    "    p - the number of past values we wish to incorporate into the model.\n",
    "    q - the number of residual values we take into consideration.\n",
    "'''    \n",
    "model_ar_2 = ARMA(df_train.ftse, order=(2,0))\n",
    "results_ar_2 = model_ar_2.fit()\n",
    "results_ar_2.summary()"
   ]
  },
  {
   "cell_type": "markdown",
   "id": "b164b998",
   "metadata": {},
   "source": [
    "## Making a AR Model with lag(3)"
   ]
  },
  {
   "cell_type": "code",
   "execution_count": 79,
   "id": "73a63f85",
   "metadata": {},
   "outputs": [
    {
     "data": {
      "text/html": [
       "<table class=\"simpletable\">\n",
       "<caption>ARMA Model Results</caption>\n",
       "<tr>\n",
       "  <th>Dep. Variable:</th>       <td>ftse</td>       <th>  No. Observations:  </th>    <td>5021</td>   \n",
       "</tr>\n",
       "<tr>\n",
       "  <th>Model:</th>            <td>ARMA(3, 0)</td>    <th>  Log Likelihood     </th> <td>-27615.644</td>\n",
       "</tr>\n",
       "<tr>\n",
       "  <th>Method:</th>             <td>css-mle</td>     <th>  S.D. of innovations</th>   <td>59.176</td>  \n",
       "</tr>\n",
       "<tr>\n",
       "  <th>Date:</th>          <td>Wed, 15 Dec 2021</td> <th>  AIC                </th>  <td>55241.288</td>\n",
       "</tr>\n",
       "<tr>\n",
       "  <th>Time:</th>              <td>09:41:35</td>     <th>  BIC                </th>  <td>55273.895</td>\n",
       "</tr>\n",
       "<tr>\n",
       "  <th>Sample:</th>           <td>01-07-1994</td>    <th>  HQIC               </th>  <td>55252.714</td>\n",
       "</tr>\n",
       "<tr>\n",
       "  <th></th>                 <td>- 04-05-2013</td>   <th>                     </th>      <td> </td>    \n",
       "</tr>\n",
       "</table>\n",
       "<table class=\"simpletable\">\n",
       "<tr>\n",
       "       <td></td>         <th>coef</th>     <th>std err</th>      <th>z</th>      <th>P>|z|</th>  <th>[0.025</th>    <th>0.975]</th>  \n",
       "</tr>\n",
       "<tr>\n",
       "  <th>const</th>      <td> 5048.7784</td> <td>  519.269</td> <td>    9.723</td> <td> 0.000</td> <td> 4031.029</td> <td> 6066.528</td>\n",
       "</tr>\n",
       "<tr>\n",
       "  <th>ar.L1.ftse</th> <td>    0.9806</td> <td>    0.014</td> <td>   69.622</td> <td> 0.000</td> <td>    0.953</td> <td>    1.008</td>\n",
       "</tr>\n",
       "<tr>\n",
       "  <th>ar.L2.ftse</th> <td>   -0.0317</td> <td>    0.020</td> <td>   -1.608</td> <td> 0.108</td> <td>   -0.070</td> <td>    0.007</td>\n",
       "</tr>\n",
       "<tr>\n",
       "  <th>ar.L3.ftse</th> <td>    0.0498</td> <td>    0.014</td> <td>    3.530</td> <td> 0.000</td> <td>    0.022</td> <td>    0.077</td>\n",
       "</tr>\n",
       "</table>\n",
       "<table class=\"simpletable\">\n",
       "<caption>Roots</caption>\n",
       "<tr>\n",
       "    <td></td>   <th>            Real</th>  <th>         Imaginary</th> <th>         Modulus</th>  <th>        Frequency</th>\n",
       "</tr>\n",
       "<tr>\n",
       "  <th>AR.1</th> <td>           1.0013</td> <td>          -0.0000j</td> <td>           1.0013</td> <td>          -0.0000</td>\n",
       "</tr>\n",
       "<tr>\n",
       "  <th>AR.2</th> <td>          -0.1819</td> <td>          -4.4756j</td> <td>           4.4793</td> <td>          -0.2565</td>\n",
       "</tr>\n",
       "<tr>\n",
       "  <th>AR.3</th> <td>          -0.1819</td> <td>          +4.4756j</td> <td>           4.4793</td> <td>           0.2565</td>\n",
       "</tr>\n",
       "</table>"
      ],
      "text/plain": [
       "<class 'statsmodels.iolib.summary.Summary'>\n",
       "\"\"\"\n",
       "                              ARMA Model Results                              \n",
       "==============================================================================\n",
       "Dep. Variable:                   ftse   No. Observations:                 5021\n",
       "Model:                     ARMA(3, 0)   Log Likelihood              -27615.644\n",
       "Method:                       css-mle   S.D. of innovations             59.176\n",
       "Date:                Wed, 15 Dec 2021   AIC                          55241.288\n",
       "Time:                        09:41:35   BIC                          55273.895\n",
       "Sample:                    01-07-1994   HQIC                         55252.714\n",
       "                         - 04-05-2013                                         \n",
       "==============================================================================\n",
       "                 coef    std err          z      P>|z|      [0.025      0.975]\n",
       "------------------------------------------------------------------------------\n",
       "const       5048.7784    519.269      9.723      0.000    4031.029    6066.528\n",
       "ar.L1.ftse     0.9806      0.014     69.622      0.000       0.953       1.008\n",
       "ar.L2.ftse    -0.0317      0.020     -1.608      0.108      -0.070       0.007\n",
       "ar.L3.ftse     0.0498      0.014      3.530      0.000       0.022       0.077\n",
       "                                    Roots                                    \n",
       "=============================================================================\n",
       "                  Real          Imaginary           Modulus         Frequency\n",
       "-----------------------------------------------------------------------------\n",
       "AR.1            1.0013           -0.0000j            1.0013           -0.0000\n",
       "AR.2           -0.1819           -4.4756j            4.4793           -0.2565\n",
       "AR.3           -0.1819           +4.4756j            4.4793            0.2565\n",
       "-----------------------------------------------------------------------------\n",
       "\"\"\""
      ]
     },
     "execution_count": 79,
     "metadata": {},
     "output_type": "execute_result"
    }
   ],
   "source": [
    "\n",
    "model_ar_3 = ARMA(df_train.ftse, order=(3,0))\n",
    "results_ar_3 = model_ar_3.fit()\n",
    "results_ar_3.summary()"
   ]
  },
  {
   "cell_type": "markdown",
   "id": "f6ed9da8",
   "metadata": {},
   "source": [
    "## Making a AR Model with lag(4)"
   ]
  },
  {
   "cell_type": "code",
   "execution_count": 80,
   "id": "10fb3b1f",
   "metadata": {
    "scrolled": true
   },
   "outputs": [
    {
     "data": {
      "text/html": [
       "<table class=\"simpletable\">\n",
       "<caption>ARMA Model Results</caption>\n",
       "<tr>\n",
       "  <th>Dep. Variable:</th>       <td>ftse</td>       <th>  No. Observations:  </th>    <td>5021</td>   \n",
       "</tr>\n",
       "<tr>\n",
       "  <th>Model:</th>            <td>ARMA(4, 0)</td>    <th>  Log Likelihood     </th> <td>-27603.377</td>\n",
       "</tr>\n",
       "<tr>\n",
       "  <th>Method:</th>             <td>css-mle</td>     <th>  S.D. of innovations</th>   <td>59.031</td>  \n",
       "</tr>\n",
       "<tr>\n",
       "  <th>Date:</th>          <td>Wed, 15 Dec 2021</td> <th>  AIC                </th>  <td>55218.755</td>\n",
       "</tr>\n",
       "<tr>\n",
       "  <th>Time:</th>              <td>09:41:36</td>     <th>  BIC                </th>  <td>55257.883</td>\n",
       "</tr>\n",
       "<tr>\n",
       "  <th>Sample:</th>           <td>01-07-1994</td>    <th>  HQIC               </th>  <td>55232.466</td>\n",
       "</tr>\n",
       "<tr>\n",
       "  <th></th>                 <td>- 04-05-2013</td>   <th>                     </th>      <td> </td>    \n",
       "</tr>\n",
       "</table>\n",
       "<table class=\"simpletable\">\n",
       "<tr>\n",
       "       <td></td>         <th>coef</th>     <th>std err</th>      <th>z</th>      <th>P>|z|</th>  <th>[0.025</th>    <th>0.975]</th>  \n",
       "</tr>\n",
       "<tr>\n",
       "  <th>const</th>      <td> 5089.7020</td> <td>  558.856</td> <td>    9.107</td> <td> 0.000</td> <td> 3994.364</td> <td> 6185.040</td>\n",
       "</tr>\n",
       "<tr>\n",
       "  <th>ar.L1.ftse</th> <td>    0.9770</td> <td>    0.014</td> <td>   69.479</td> <td> 0.000</td> <td>    0.949</td> <td>    1.005</td>\n",
       "</tr>\n",
       "<tr>\n",
       "  <th>ar.L2.ftse</th> <td>   -0.0295</td> <td>    0.020</td> <td>   -1.499</td> <td> 0.134</td> <td>   -0.068</td> <td>    0.009</td>\n",
       "</tr>\n",
       "<tr>\n",
       "  <th>ar.L3.ftse</th> <td>   -0.0187</td> <td>    0.020</td> <td>   -0.947</td> <td> 0.344</td> <td>   -0.057</td> <td>    0.020</td>\n",
       "</tr>\n",
       "<tr>\n",
       "  <th>ar.L4.ftse</th> <td>    0.0699</td> <td>    0.014</td> <td>    4.960</td> <td> 0.000</td> <td>    0.042</td> <td>    0.097</td>\n",
       "</tr>\n",
       "</table>\n",
       "<table class=\"simpletable\">\n",
       "<caption>Roots</caption>\n",
       "<tr>\n",
       "    <td></td>   <th>            Real</th>  <th>         Imaginary</th> <th>         Modulus</th>  <th>        Frequency</th>\n",
       "</tr>\n",
       "<tr>\n",
       "  <th>AR.1</th> <td>           1.0011</td> <td>          -0.0000j</td> <td>           1.0011</td> <td>          -0.0000</td>\n",
       "</tr>\n",
       "<tr>\n",
       "  <th>AR.2</th> <td>           0.9583</td> <td>          -2.1153j</td> <td>           2.3223</td> <td>          -0.1823</td>\n",
       "</tr>\n",
       "<tr>\n",
       "  <th>AR.3</th> <td>           0.9583</td> <td>          +2.1153j</td> <td>           2.3223</td> <td>           0.1823</td>\n",
       "</tr>\n",
       "<tr>\n",
       "  <th>AR.4</th> <td>          -2.6507</td> <td>          -0.0000j</td> <td>           2.6507</td> <td>          -0.5000</td>\n",
       "</tr>\n",
       "</table>"
      ],
      "text/plain": [
       "<class 'statsmodels.iolib.summary.Summary'>\n",
       "\"\"\"\n",
       "                              ARMA Model Results                              \n",
       "==============================================================================\n",
       "Dep. Variable:                   ftse   No. Observations:                 5021\n",
       "Model:                     ARMA(4, 0)   Log Likelihood              -27603.377\n",
       "Method:                       css-mle   S.D. of innovations             59.031\n",
       "Date:                Wed, 15 Dec 2021   AIC                          55218.755\n",
       "Time:                        09:41:36   BIC                          55257.883\n",
       "Sample:                    01-07-1994   HQIC                         55232.466\n",
       "                         - 04-05-2013                                         \n",
       "==============================================================================\n",
       "                 coef    std err          z      P>|z|      [0.025      0.975]\n",
       "------------------------------------------------------------------------------\n",
       "const       5089.7020    558.856      9.107      0.000    3994.364    6185.040\n",
       "ar.L1.ftse     0.9770      0.014     69.479      0.000       0.949       1.005\n",
       "ar.L2.ftse    -0.0295      0.020     -1.499      0.134      -0.068       0.009\n",
       "ar.L3.ftse    -0.0187      0.020     -0.947      0.344      -0.057       0.020\n",
       "ar.L4.ftse     0.0699      0.014      4.960      0.000       0.042       0.097\n",
       "                                    Roots                                    \n",
       "=============================================================================\n",
       "                  Real          Imaginary           Modulus         Frequency\n",
       "-----------------------------------------------------------------------------\n",
       "AR.1            1.0011           -0.0000j            1.0011           -0.0000\n",
       "AR.2            0.9583           -2.1153j            2.3223           -0.1823\n",
       "AR.3            0.9583           +2.1153j            2.3223            0.1823\n",
       "AR.4           -2.6507           -0.0000j            2.6507           -0.5000\n",
       "-----------------------------------------------------------------------------\n",
       "\"\"\""
      ]
     },
     "execution_count": 80,
     "metadata": {},
     "output_type": "execute_result"
    }
   ],
   "source": [
    "\n",
    "model_ar_4 = ARMA(df_train.ftse, order=(4,0))\n",
    "results_ar_4 = model_ar_4.fit()\n",
    "results_ar_4.summary()"
   ]
  },
  {
   "cell_type": "markdown",
   "id": "cb511d8b",
   "metadata": {},
   "source": [
    "### Things to keep in mind while selecting a model:-\n",
    "    \n",
    "### 1. Higher Log-Likelihood\n",
    "### 2. Lower Information Criteria (AIC and BIC)"
   ]
  },
  {
   "cell_type": "markdown",
   "id": "4f67f097",
   "metadata": {},
   "source": [
    "### Overfitting - Describing the dataset, rather than the event itself."
   ]
  },
  {
   "cell_type": "markdown",
   "id": "6d30772b",
   "metadata": {},
   "source": [
    "# LLR Test (Log-Likelihood Ratio)"
   ]
  },
  {
   "cell_type": "code",
   "execution_count": 81,
   "id": "be04f77d",
   "metadata": {},
   "outputs": [],
   "source": [
    "from scipy.stats.distributions import chi2"
   ]
  },
  {
   "cell_type": "code",
   "execution_count": 82,
   "id": "1085c806",
   "metadata": {},
   "outputs": [],
   "source": [
    "def LLR_test(mod_1,mod_2,DF=1):\n",
    "    L1 = mod_1.fit().llf         # Here .llf -> extracts the Log-Likelihood\n",
    "    L2 = mod_2.fit().llf\n",
    "    LR_test_statistic = 2*(L2-L1)\n",
    "    p = chi2.sf(LR_test_statistic, DF).round(3)\n",
    "    return p\n",
    "    "
   ]
  },
  {
   "cell_type": "code",
   "execution_count": 83,
   "id": "01ecced9",
   "metadata": {},
   "outputs": [
    {
     "data": {
      "text/plain": [
       "0.0"
      ]
     },
     "execution_count": 83,
     "metadata": {},
     "output_type": "execute_result"
    }
   ],
   "source": [
    "LLR_test(model_ar_2, model_ar_3)"
   ]
  },
  {
   "cell_type": "markdown",
   "id": "6c308479",
   "metadata": {},
   "source": [
    "We should fit more and more complicated models and keep on checking if it gives us distinguishably greater log-likelihoods.\n",
    "\n",
    "Also the last lag of the model must not be significantly different than zero"
   ]
  },
  {
   "cell_type": "markdown",
   "id": "84983499",
   "metadata": {},
   "source": [
    "1. Non significant p-valaue for the LLR test.\n",
    "2. Non significant p-value for the highest lag coefficients"
   ]
  },
  {
   "cell_type": "markdown",
   "id": "80e67f2e",
   "metadata": {},
   "source": [
    "### AR Models Works well Only on Stationary Data:-"
   ]
  },
  {
   "cell_type": "code",
   "execution_count": 84,
   "id": "d99a9381",
   "metadata": {},
   "outputs": [
    {
     "data": {
      "text/plain": [
       "(-1.9049356385026275,\n",
       " 0.32974280493188746,\n",
       " 6,\n",
       " 5014,\n",
       " {'1%': -3.4316548765428174,\n",
       "  '5%': -2.8621166146845334,\n",
       "  '10%': -2.5670769326348926},\n",
       " 54856.46568853504)"
      ]
     },
     "execution_count": 84,
     "metadata": {},
     "output_type": "execute_result"
    }
   ],
   "source": [
    "sts.adfuller(df_train.ftse)"
   ]
  },
  {
   "cell_type": "markdown",
   "id": "c71e7189",
   "metadata": {},
   "source": [
    "#### Since, the test statistic value is -1.9 which is greater than -2.56. So we can't reject the null hypothesis. Therefore, the time series is non stationary in nature.\n",
    "\n",
    "\n",
    "We can use returns instead of prices when measuring financial indices. \n",
    "\n",
    "Returns --> The % change between the values for two consecutive periods.\n",
    "\n",
    "r>0 (positive returns) - these indicate increase in price.\n",
    "\n",
    "r<0 (Negative returns) - these indicate decrease in price."
   ]
  },
  {
   "cell_type": "markdown",
   "id": "ca2fcaa5",
   "metadata": {},
   "source": [
    "## $Returns = \\frac{P_{t} - P_{t-1}}{P_{t-1}} *100$"
   ]
  },
  {
   "cell_type": "markdown",
   "id": "6c44d5e2",
   "metadata": {},
   "source": [
    "### Converting into Returns"
   ]
  },
  {
   "cell_type": "code",
   "execution_count": 85,
   "id": "748626a7",
   "metadata": {},
   "outputs": [
    {
     "data": {
      "text/html": [
       "<div>\n",
       "<style scoped>\n",
       "    .dataframe tbody tr th:only-of-type {\n",
       "        vertical-align: middle;\n",
       "    }\n",
       "\n",
       "    .dataframe tbody tr th {\n",
       "        vertical-align: top;\n",
       "    }\n",
       "\n",
       "    .dataframe thead th {\n",
       "        text-align: right;\n",
       "    }\n",
       "</style>\n",
       "<table border=\"1\" class=\"dataframe\">\n",
       "  <thead>\n",
       "    <tr style=\"text-align: right;\">\n",
       "      <th></th>\n",
       "      <th>spx</th>\n",
       "      <th>dax</th>\n",
       "      <th>ftse</th>\n",
       "      <th>nikkei</th>\n",
       "      <th>market</th>\n",
       "      <th>wn</th>\n",
       "      <th>rw</th>\n",
       "      <th>Returns</th>\n",
       "    </tr>\n",
       "    <tr>\n",
       "      <th>date</th>\n",
       "      <th></th>\n",
       "      <th></th>\n",
       "      <th></th>\n",
       "      <th></th>\n",
       "      <th></th>\n",
       "      <th></th>\n",
       "      <th></th>\n",
       "      <th></th>\n",
       "    </tr>\n",
       "  </thead>\n",
       "  <tbody>\n",
       "    <tr>\n",
       "      <th>1994-01-10</th>\n",
       "      <td>475.27</td>\n",
       "      <td>2225.00</td>\n",
       "      <td>3440.58</td>\n",
       "      <td>18443.44</td>\n",
       "      <td>475.27</td>\n",
       "      <td>1144.606969</td>\n",
       "      <td>1080.347860</td>\n",
       "      <td>-0.156704</td>\n",
       "    </tr>\n",
       "    <tr>\n",
       "      <th>1994-01-11</th>\n",
       "      <td>474.13</td>\n",
       "      <td>2228.10</td>\n",
       "      <td>3413.77</td>\n",
       "      <td>18485.25</td>\n",
       "      <td>474.13</td>\n",
       "      <td>1026.262566</td>\n",
       "      <td>1082.095245</td>\n",
       "      <td>-0.779229</td>\n",
       "    </tr>\n",
       "    <tr>\n",
       "      <th>1994-01-12</th>\n",
       "      <td>474.17</td>\n",
       "      <td>2182.06</td>\n",
       "      <td>3372.02</td>\n",
       "      <td>18793.88</td>\n",
       "      <td>474.17</td>\n",
       "      <td>1465.376065</td>\n",
       "      <td>1083.639265</td>\n",
       "      <td>-1.222988</td>\n",
       "    </tr>\n",
       "    <tr>\n",
       "      <th>1994-01-13</th>\n",
       "      <td>472.47</td>\n",
       "      <td>2142.37</td>\n",
       "      <td>3360.01</td>\n",
       "      <td>18577.26</td>\n",
       "      <td>472.47</td>\n",
       "      <td>906.796938</td>\n",
       "      <td>1067.146255</td>\n",
       "      <td>-0.356166</td>\n",
       "    </tr>\n",
       "    <tr>\n",
       "      <th>1994-01-14</th>\n",
       "      <td>474.91</td>\n",
       "      <td>2151.05</td>\n",
       "      <td>3400.56</td>\n",
       "      <td>18973.70</td>\n",
       "      <td>474.91</td>\n",
       "      <td>423.374057</td>\n",
       "      <td>1080.129720</td>\n",
       "      <td>1.206842</td>\n",
       "    </tr>\n",
       "  </tbody>\n",
       "</table>\n",
       "</div>"
      ],
      "text/plain": [
       "               spx      dax     ftse    nikkei  market           wn  \\\n",
       "date                                                                  \n",
       "1994-01-10  475.27  2225.00  3440.58  18443.44  475.27  1144.606969   \n",
       "1994-01-11  474.13  2228.10  3413.77  18485.25  474.13  1026.262566   \n",
       "1994-01-12  474.17  2182.06  3372.02  18793.88  474.17  1465.376065   \n",
       "1994-01-13  472.47  2142.37  3360.01  18577.26  472.47   906.796938   \n",
       "1994-01-14  474.91  2151.05  3400.56  18973.70  474.91   423.374057   \n",
       "\n",
       "                     rw   Returns  \n",
       "date                               \n",
       "1994-01-10  1080.347860 -0.156704  \n",
       "1994-01-11  1082.095245 -0.779229  \n",
       "1994-01-12  1083.639265 -1.222988  \n",
       "1994-01-13  1067.146255 -0.356166  \n",
       "1994-01-14  1080.129720  1.206842  "
      ]
     },
     "execution_count": 85,
     "metadata": {},
     "output_type": "execute_result"
    }
   ],
   "source": [
    "df_train['Returns'] = df_train.ftse.pct_change(1).mul(100)\n",
    "df_train = df_train.iloc[1:]\n",
    "df_train.head(5)"
   ]
  },
  {
   "cell_type": "code",
   "execution_count": 86,
   "id": "7abf5bd1",
   "metadata": {},
   "outputs": [
    {
     "data": {
      "text/plain": [
       "(-12.786930957227383,\n",
       " 7.213255047800936e-24,\n",
       " 32,\n",
       " 4987,\n",
       " {'1%': -3.431661944885779,\n",
       "  '5%': -2.8621197374408225,\n",
       "  '10%': -2.5670785949998973},\n",
       " 15700.846444346233)"
      ]
     },
     "execution_count": 86,
     "metadata": {},
     "output_type": "execute_result"
    }
   ],
   "source": [
    "sts.adfuller(df_train.Returns)"
   ]
  },
  {
   "cell_type": "markdown",
   "id": "15f2a1e6",
   "metadata": {},
   "source": [
    "#### Since, the test statistic value is -17.0 which is greater than -2.56. So we can reject the null hypothesis. Therefore, the time series is stationary in nature."
   ]
  },
  {
   "cell_type": "markdown",
   "id": "16e3779b",
   "metadata": {},
   "source": [
    "## ACF and PACF for Returns"
   ]
  },
  {
   "cell_type": "code",
   "execution_count": 87,
   "id": "66f3b286",
   "metadata": {},
   "outputs": [
    {
     "data": {
      "image/png": "[encoded data removed]",
      "text/plain": [
       "<Figure size 432x288 with 1 Axes>"
      ]
     },
     "metadata": {
      "needs_background": "light"
     },
     "output_type": "display_data"
    }
   ],
   "source": [
    "# ACF of white noise model\n",
    "sgt.plot_acf(df_train.Returns, lags = 40, zero =False )\n",
    "plt.title(\"ACF for Returns\", size=14)\n",
    "plt.show()"
   ]
  },
  {
   "cell_type": "code",
   "execution_count": 88,
   "id": "13b1c036",
   "metadata": {},
   "outputs": [
    {
     "data": {
      "image/png": "[encoded data removed]",
      "text/plain": [
       "<Figure size 432x288 with 1 Axes>"
      ]
     },
     "metadata": {
      "needs_background": "light"
     },
     "output_type": "display_data"
    }
   ],
   "source": [
    "# ACF of white noise model\n",
    "sgt.plot_pacf(df_train.Returns, lags = 40, zero =False, method=('ols') )\n",
    "plt.title(\"PACF for Returns\", size=14)\n",
    "plt.show()"
   ]
  },
  {
   "cell_type": "markdown",
   "id": "b4033157",
   "metadata": {},
   "source": [
    "The negative relationship between past and current values suggests that the data wants to avoid falling in a big trend (e.g avoids clustering)."
   ]
  },
  {
   "cell_type": "markdown",
   "id": "7981b643",
   "metadata": {},
   "source": [
    "## AR(1) For Returns"
   ]
  },
  {
   "cell_type": "code",
   "execution_count": 89,
   "id": "c52f86d9",
   "metadata": {},
   "outputs": [
    {
     "data": {
      "text/html": [
       "<table class=\"simpletable\">\n",
       "<caption>ARMA Model Results</caption>\n",
       "<tr>\n",
       "  <th>Dep. Variable:</th>      <td>Returns</td>     <th>  No. Observations:  </th>   <td>5020</td>   \n",
       "</tr>\n",
       "<tr>\n",
       "  <th>Model:</th>            <td>ARMA(1, 0)</td>    <th>  Log Likelihood     </th> <td>-7929.756</td>\n",
       "</tr>\n",
       "<tr>\n",
       "  <th>Method:</th>             <td>css-mle</td>     <th>  S.D. of innovations</th>   <td>1.174</td>  \n",
       "</tr>\n",
       "<tr>\n",
       "  <th>Date:</th>          <td>Wed, 15 Dec 2021</td> <th>  AIC                </th> <td>15865.512</td>\n",
       "</tr>\n",
       "<tr>\n",
       "  <th>Time:</th>              <td>09:41:43</td>     <th>  BIC                </th> <td>15885.076</td>\n",
       "</tr>\n",
       "<tr>\n",
       "  <th>Sample:</th>           <td>01-10-1994</td>    <th>  HQIC               </th> <td>15872.368</td>\n",
       "</tr>\n",
       "<tr>\n",
       "  <th></th>                 <td>- 04-05-2013</td>   <th>                     </th>     <td> </td>    \n",
       "</tr>\n",
       "</table>\n",
       "<table class=\"simpletable\">\n",
       "<tr>\n",
       "        <td></td>           <th>coef</th>     <th>std err</th>      <th>z</th>      <th>P>|z|</th>  <th>[0.025</th>    <th>0.975]</th>  \n",
       "</tr>\n",
       "<tr>\n",
       "  <th>const</th>         <td>    0.0188</td> <td>    0.016</td> <td>    1.158</td> <td> 0.247</td> <td>   -0.013</td> <td>    0.051</td>\n",
       "</tr>\n",
       "<tr>\n",
       "  <th>ar.L1.Returns</th> <td>   -0.0230</td> <td>    0.014</td> <td>   -1.627</td> <td> 0.104</td> <td>   -0.051</td> <td>    0.005</td>\n",
       "</tr>\n",
       "</table>\n",
       "<table class=\"simpletable\">\n",
       "<caption>Roots</caption>\n",
       "<tr>\n",
       "    <td></td>   <th>            Real</th>  <th>         Imaginary</th> <th>         Modulus</th>  <th>        Frequency</th>\n",
       "</tr>\n",
       "<tr>\n",
       "  <th>AR.1</th> <td>         -43.5596</td> <td>          +0.0000j</td> <td>          43.5596</td> <td>           0.5000</td>\n",
       "</tr>\n",
       "</table>"
      ],
      "text/plain": [
       "<class 'statsmodels.iolib.summary.Summary'>\n",
       "\"\"\"\n",
       "                              ARMA Model Results                              \n",
       "==============================================================================\n",
       "Dep. Variable:                Returns   No. Observations:                 5020\n",
       "Model:                     ARMA(1, 0)   Log Likelihood               -7929.756\n",
       "Method:                       css-mle   S.D. of innovations              1.174\n",
       "Date:                Wed, 15 Dec 2021   AIC                          15865.512\n",
       "Time:                        09:41:43   BIC                          15885.076\n",
       "Sample:                    01-10-1994   HQIC                         15872.368\n",
       "                         - 04-05-2013                                         \n",
       "=================================================================================\n",
       "                    coef    std err          z      P>|z|      [0.025      0.975]\n",
       "---------------------------------------------------------------------------------\n",
       "const             0.0188      0.016      1.158      0.247      -0.013       0.051\n",
       "ar.L1.Returns    -0.0230      0.014     -1.627      0.104      -0.051       0.005\n",
       "                                    Roots                                    \n",
       "=============================================================================\n",
       "                  Real          Imaginary           Modulus         Frequency\n",
       "-----------------------------------------------------------------------------\n",
       "AR.1          -43.5596           +0.0000j           43.5596            0.5000\n",
       "-----------------------------------------------------------------------------\n",
       "\"\"\""
      ]
     },
     "execution_count": 89,
     "metadata": {},
     "output_type": "execute_result"
    }
   ],
   "source": [
    "model_ret_ar_1 = ARMA(df_train.Returns, order=(1,0))\n",
    "results_ret_ar_1 = model_ret_ar_1.fit()\n",
    "results_ret_ar_1.summary()"
   ]
  },
  {
   "cell_type": "markdown",
   "id": "ce9c78e7",
   "metadata": {},
   "source": [
    "Since p value is greater than 0.05, the model has very less predictive power. Since neither coefficient is significantly different from 0, we can assume both are 0, so our predictions would always be 0."
   ]
  },
  {
   "cell_type": "markdown",
   "id": "a879c383",
   "metadata": {},
   "source": [
    "## Higher-Lag AR Models for Returns"
   ]
  },
  {
   "cell_type": "code",
   "execution_count": 90,
   "id": "bdabe3eb",
   "metadata": {},
   "outputs": [
    {
     "data": {
      "text/html": [
       "<table class=\"simpletable\">\n",
       "<caption>ARMA Model Results</caption>\n",
       "<tr>\n",
       "  <th>Dep. Variable:</th>      <td>Returns</td>     <th>  No. Observations:  </th>   <td>5020</td>   \n",
       "</tr>\n",
       "<tr>\n",
       "  <th>Model:</th>            <td>ARMA(2, 0)</td>    <th>  Log Likelihood     </th> <td>-7923.305</td>\n",
       "</tr>\n",
       "<tr>\n",
       "  <th>Method:</th>             <td>css-mle</td>     <th>  S.D. of innovations</th>   <td>1.173</td>  \n",
       "</tr>\n",
       "<tr>\n",
       "  <th>Date:</th>          <td>Wed, 15 Dec 2021</td> <th>  AIC                </th> <td>15854.609</td>\n",
       "</tr>\n",
       "<tr>\n",
       "  <th>Time:</th>              <td>09:41:43</td>     <th>  BIC                </th> <td>15880.694</td>\n",
       "</tr>\n",
       "<tr>\n",
       "  <th>Sample:</th>           <td>01-10-1994</td>    <th>  HQIC               </th> <td>15863.749</td>\n",
       "</tr>\n",
       "<tr>\n",
       "  <th></th>                 <td>- 04-05-2013</td>   <th>                     </th>     <td> </td>    \n",
       "</tr>\n",
       "</table>\n",
       "<table class=\"simpletable\">\n",
       "<tr>\n",
       "        <td></td>           <th>coef</th>     <th>std err</th>      <th>z</th>      <th>P>|z|</th>  <th>[0.025</th>    <th>0.975]</th>  \n",
       "</tr>\n",
       "<tr>\n",
       "  <th>const</th>         <td>    0.0188</td> <td>    0.015</td> <td>    1.221</td> <td> 0.222</td> <td>   -0.011</td> <td>    0.049</td>\n",
       "</tr>\n",
       "<tr>\n",
       "  <th>ar.L1.Returns</th> <td>   -0.0241</td> <td>    0.014</td> <td>   -1.712</td> <td> 0.087</td> <td>   -0.052</td> <td>    0.003</td>\n",
       "</tr>\n",
       "<tr>\n",
       "  <th>ar.L2.Returns</th> <td>   -0.0507</td> <td>    0.014</td> <td>   -3.594</td> <td> 0.000</td> <td>   -0.078</td> <td>   -0.023</td>\n",
       "</tr>\n",
       "</table>\n",
       "<table class=\"simpletable\">\n",
       "<caption>Roots</caption>\n",
       "<tr>\n",
       "    <td></td>   <th>            Real</th>  <th>         Imaginary</th> <th>         Modulus</th>  <th>        Frequency</th>\n",
       "</tr>\n",
       "<tr>\n",
       "  <th>AR.1</th> <td>          -0.2381</td> <td>          -4.4360j</td> <td>           4.4424</td> <td>          -0.2585</td>\n",
       "</tr>\n",
       "<tr>\n",
       "  <th>AR.2</th> <td>          -0.2381</td> <td>          +4.4360j</td> <td>           4.4424</td> <td>           0.2585</td>\n",
       "</tr>\n",
       "</table>"
      ],
      "text/plain": [
       "<class 'statsmodels.iolib.summary.Summary'>\n",
       "\"\"\"\n",
       "                              ARMA Model Results                              \n",
       "==============================================================================\n",
       "Dep. Variable:                Returns   No. Observations:                 5020\n",
       "Model:                     ARMA(2, 0)   Log Likelihood               -7923.305\n",
       "Method:                       css-mle   S.D. of innovations              1.173\n",
       "Date:                Wed, 15 Dec 2021   AIC                          15854.609\n",
       "Time:                        09:41:43   BIC                          15880.694\n",
       "Sample:                    01-10-1994   HQIC                         15863.749\n",
       "                         - 04-05-2013                                         \n",
       "=================================================================================\n",
       "                    coef    std err          z      P>|z|      [0.025      0.975]\n",
       "---------------------------------------------------------------------------------\n",
       "const             0.0188      0.015      1.221      0.222      -0.011       0.049\n",
       "ar.L1.Returns    -0.0241      0.014     -1.712      0.087      -0.052       0.003\n",
       "ar.L2.Returns    -0.0507      0.014     -3.594      0.000      -0.078      -0.023\n",
       "                                    Roots                                    \n",
       "=============================================================================\n",
       "                  Real          Imaginary           Modulus         Frequency\n",
       "-----------------------------------------------------------------------------\n",
       "AR.1           -0.2381           -4.4360j            4.4424           -0.2585\n",
       "AR.2           -0.2381           +4.4360j            4.4424            0.2585\n",
       "-----------------------------------------------------------------------------\n",
       "\"\"\""
      ]
     },
     "execution_count": 90,
     "metadata": {},
     "output_type": "execute_result"
    }
   ],
   "source": [
    "model_ret_ar_2 = ARMA(df_train.Returns, order=(2,0))\n",
    "results_ret_ar_2 = model_ret_ar_2.fit()\n",
    "results_ret_ar_2.summary()"
   ]
  },
  {
   "cell_type": "code",
   "execution_count": 91,
   "id": "35b996e4",
   "metadata": {},
   "outputs": [
    {
     "data": {
      "text/plain": [
       "0.0"
      ]
     },
     "execution_count": 91,
     "metadata": {},
     "output_type": "execute_result"
    }
   ],
   "source": [
    "LLR_test(model_ret_ar_1,model_ret_ar_2)"
   ]
  },
  {
   "cell_type": "markdown",
   "id": "6b1c1710",
   "metadata": {},
   "source": [
    "Since we get a p value less than 0.05, so it suggests that the second model is statistically more significant than the first model."
   ]
  },
  {
   "cell_type": "code",
   "execution_count": 92,
   "id": "813239eb",
   "metadata": {},
   "outputs": [
    {
     "data": {
      "text/html": [
       "<table class=\"simpletable\">\n",
       "<caption>ARMA Model Results</caption>\n",
       "<tr>\n",
       "  <th>Dep. Variable:</th>      <td>Returns</td>     <th>  No. Observations:  </th>   <td>5020</td>   \n",
       "</tr>\n",
       "<tr>\n",
       "  <th>Model:</th>            <td>ARMA(6, 0)</td>    <th>  Log Likelihood     </th> <td>-7888.633</td>\n",
       "</tr>\n",
       "<tr>\n",
       "  <th>Method:</th>             <td>css-mle</td>     <th>  S.D. of innovations</th>   <td>1.165</td>  \n",
       "</tr>\n",
       "<tr>\n",
       "  <th>Date:</th>          <td>Wed, 15 Dec 2021</td> <th>  AIC                </th> <td>15793.265</td>\n",
       "</tr>\n",
       "<tr>\n",
       "  <th>Time:</th>              <td>09:41:44</td>     <th>  BIC                </th> <td>15845.435</td>\n",
       "</tr>\n",
       "<tr>\n",
       "  <th>Sample:</th>           <td>01-10-1994</td>    <th>  HQIC               </th> <td>15811.546</td>\n",
       "</tr>\n",
       "<tr>\n",
       "  <th></th>                 <td>- 04-05-2013</td>   <th>                     </th>     <td> </td>    \n",
       "</tr>\n",
       "</table>\n",
       "<table class=\"simpletable\">\n",
       "<tr>\n",
       "        <td></td>           <th>coef</th>     <th>std err</th>      <th>z</th>      <th>P>|z|</th>  <th>[0.025</th>    <th>0.975]</th>  \n",
       "</tr>\n",
       "<tr>\n",
       "  <th>const</th>         <td>    0.0189</td> <td>    0.013</td> <td>    1.413</td> <td> 0.158</td> <td>   -0.007</td> <td>    0.045</td>\n",
       "</tr>\n",
       "<tr>\n",
       "  <th>ar.L1.Returns</th> <td>   -0.0248</td> <td>    0.014</td> <td>   -1.760</td> <td> 0.078</td> <td>   -0.052</td> <td>    0.003</td>\n",
       "</tr>\n",
       "<tr>\n",
       "  <th>ar.L2.Returns</th> <td>   -0.0529</td> <td>    0.014</td> <td>   -3.756</td> <td> 0.000</td> <td>   -0.080</td> <td>   -0.025</td>\n",
       "</tr>\n",
       "<tr>\n",
       "  <th>ar.L3.Returns</th> <td>   -0.0839</td> <td>    0.014</td> <td>   -5.957</td> <td> 0.000</td> <td>   -0.112</td> <td>   -0.056</td>\n",
       "</tr>\n",
       "<tr>\n",
       "  <th>ar.L4.Returns</th> <td>    0.0401</td> <td>    0.014</td> <td>    2.844</td> <td> 0.004</td> <td>    0.012</td> <td>    0.068</td>\n",
       "</tr>\n",
       "<tr>\n",
       "  <th>ar.L5.Returns</th> <td>   -0.0605</td> <td>    0.014</td> <td>   -4.295</td> <td> 0.000</td> <td>   -0.088</td> <td>   -0.033</td>\n",
       "</tr>\n",
       "<tr>\n",
       "  <th>ar.L6.Returns</th> <td>   -0.0464</td> <td>    0.014</td> <td>   -3.288</td> <td> 0.001</td> <td>   -0.074</td> <td>   -0.019</td>\n",
       "</tr>\n",
       "</table>\n",
       "<table class=\"simpletable\">\n",
       "<caption>Roots</caption>\n",
       "<tr>\n",
       "    <td></td>   <th>            Real</th>  <th>         Imaginary</th> <th>         Modulus</th>  <th>        Frequency</th>\n",
       "</tr>\n",
       "<tr>\n",
       "  <th>AR.1</th> <td>           1.2862</td> <td>          -0.9021j</td> <td>           1.5710</td> <td>          -0.0973</td>\n",
       "</tr>\n",
       "<tr>\n",
       "  <th>AR.2</th> <td>           1.2862</td> <td>          +0.9021j</td> <td>           1.5710</td> <td>           0.0973</td>\n",
       "</tr>\n",
       "<tr>\n",
       "  <th>AR.3</th> <td>          -0.0769</td> <td>          -1.5314j</td> <td>           1.5333</td> <td>          -0.2580</td>\n",
       "</tr>\n",
       "<tr>\n",
       "  <th>AR.4</th> <td>          -0.0769</td> <td>          +1.5314j</td> <td>           1.5333</td> <td>           0.2580</td>\n",
       "</tr>\n",
       "<tr>\n",
       "  <th>AR.5</th> <td>          -1.8616</td> <td>          -0.5016j</td> <td>           1.9280</td> <td>          -0.4581</td>\n",
       "</tr>\n",
       "<tr>\n",
       "  <th>AR.6</th> <td>          -1.8616</td> <td>          +0.5016j</td> <td>           1.9280</td> <td>           0.4581</td>\n",
       "</tr>\n",
       "</table>"
      ],
      "text/plain": [
       "<class 'statsmodels.iolib.summary.Summary'>\n",
       "\"\"\"\n",
       "                              ARMA Model Results                              \n",
       "==============================================================================\n",
       "Dep. Variable:                Returns   No. Observations:                 5020\n",
       "Model:                     ARMA(6, 0)   Log Likelihood               -7888.633\n",
       "Method:                       css-mle   S.D. of innovations              1.165\n",
       "Date:                Wed, 15 Dec 2021   AIC                          15793.265\n",
       "Time:                        09:41:44   BIC                          15845.435\n",
       "Sample:                    01-10-1994   HQIC                         15811.546\n",
       "                         - 04-05-2013                                         \n",
       "=================================================================================\n",
       "                    coef    std err          z      P>|z|      [0.025      0.975]\n",
       "---------------------------------------------------------------------------------\n",
       "const             0.0189      0.013      1.413      0.158      -0.007       0.045\n",
       "ar.L1.Returns    -0.0248      0.014     -1.760      0.078      -0.052       0.003\n",
       "ar.L2.Returns    -0.0529      0.014     -3.756      0.000      -0.080      -0.025\n",
       "ar.L3.Returns    -0.0839      0.014     -5.957      0.000      -0.112      -0.056\n",
       "ar.L4.Returns     0.0401      0.014      2.844      0.004       0.012       0.068\n",
       "ar.L5.Returns    -0.0605      0.014     -4.295      0.000      -0.088      -0.033\n",
       "ar.L6.Returns    -0.0464      0.014     -3.288      0.001      -0.074      -0.019\n",
       "                                    Roots                                    \n",
       "=============================================================================\n",
       "                  Real          Imaginary           Modulus         Frequency\n",
       "-----------------------------------------------------------------------------\n",
       "AR.1            1.2862           -0.9021j            1.5710           -0.0973\n",
       "AR.2            1.2862           +0.9021j            1.5710            0.0973\n",
       "AR.3           -0.0769           -1.5314j            1.5333           -0.2580\n",
       "AR.4           -0.0769           +1.5314j            1.5333            0.2580\n",
       "AR.5           -1.8616           -0.5016j            1.9280           -0.4581\n",
       "AR.6           -1.8616           +0.5016j            1.9280            0.4581\n",
       "-----------------------------------------------------------------------------\n",
       "\"\"\""
      ]
     },
     "execution_count": 92,
     "metadata": {},
     "output_type": "execute_result"
    }
   ],
   "source": [
    "model_ret_ar_6 = ARMA(df_train.Returns, order=(6,0))\n",
    "results_ret_ar_6 = model_ret_ar_6.fit()\n",
    "results_ret_ar_6.summary()"
   ]
  },
  {
   "cell_type": "code",
   "execution_count": 93,
   "id": "72ee4305",
   "metadata": {},
   "outputs": [
    {
     "data": {
      "text/html": [
       "<table class=\"simpletable\">\n",
       "<caption>ARMA Model Results</caption>\n",
       "<tr>\n",
       "  <th>Dep. Variable:</th>      <td>Returns</td>     <th>  No. Observations:  </th>   <td>5020</td>   \n",
       "</tr>\n",
       "<tr>\n",
       "  <th>Model:</th>            <td>ARMA(7, 0)</td>    <th>  Log Likelihood     </th> <td>-7888.363</td>\n",
       "</tr>\n",
       "<tr>\n",
       "  <th>Method:</th>             <td>css-mle</td>     <th>  S.D. of innovations</th>   <td>1.165</td>  \n",
       "</tr>\n",
       "<tr>\n",
       "  <th>Date:</th>          <td>Wed, 15 Dec 2021</td> <th>  AIC                </th> <td>15794.726</td>\n",
       "</tr>\n",
       "<tr>\n",
       "  <th>Time:</th>              <td>09:41:46</td>     <th>  BIC                </th> <td>15853.416</td>\n",
       "</tr>\n",
       "<tr>\n",
       "  <th>Sample:</th>           <td>01-10-1994</td>    <th>  HQIC               </th> <td>15815.292</td>\n",
       "</tr>\n",
       "<tr>\n",
       "  <th></th>                 <td>- 04-05-2013</td>   <th>                     </th>     <td> </td>    \n",
       "</tr>\n",
       "</table>\n",
       "<table class=\"simpletable\">\n",
       "<tr>\n",
       "        <td></td>           <th>coef</th>     <th>std err</th>      <th>z</th>      <th>P>|z|</th>  <th>[0.025</th>    <th>0.975]</th>  \n",
       "</tr>\n",
       "<tr>\n",
       "  <th>const</th>         <td>    0.0189</td> <td>    0.014</td> <td>    1.399</td> <td> 0.162</td> <td>   -0.008</td> <td>    0.045</td>\n",
       "</tr>\n",
       "<tr>\n",
       "  <th>ar.L1.Returns</th> <td>   -0.0243</td> <td>    0.014</td> <td>   -1.724</td> <td> 0.085</td> <td>   -0.052</td> <td>    0.003</td>\n",
       "</tr>\n",
       "<tr>\n",
       "  <th>ar.L2.Returns</th> <td>   -0.0523</td> <td>    0.014</td> <td>   -3.705</td> <td> 0.000</td> <td>   -0.080</td> <td>   -0.025</td>\n",
       "</tr>\n",
       "<tr>\n",
       "  <th>ar.L3.Returns</th> <td>   -0.0844</td> <td>    0.014</td> <td>   -5.982</td> <td> 0.000</td> <td>   -0.112</td> <td>   -0.057</td>\n",
       "</tr>\n",
       "<tr>\n",
       "  <th>ar.L4.Returns</th> <td>    0.0409</td> <td>    0.014</td> <td>    2.896</td> <td> 0.004</td> <td>    0.013</td> <td>    0.069</td>\n",
       "</tr>\n",
       "<tr>\n",
       "  <th>ar.L5.Returns</th> <td>   -0.0599</td> <td>    0.014</td> <td>   -4.250</td> <td> 0.000</td> <td>   -0.088</td> <td>   -0.032</td>\n",
       "</tr>\n",
       "<tr>\n",
       "  <th>ar.L6.Returns</th> <td>   -0.0461</td> <td>    0.014</td> <td>   -3.268</td> <td> 0.001</td> <td>   -0.074</td> <td>   -0.018</td>\n",
       "</tr>\n",
       "<tr>\n",
       "  <th>ar.L7.Returns</th> <td>    0.0104</td> <td>    0.014</td> <td>    0.735</td> <td> 0.463</td> <td>   -0.017</td> <td>    0.038</td>\n",
       "</tr>\n",
       "</table>\n",
       "<table class=\"simpletable\">\n",
       "<caption>Roots</caption>\n",
       "<tr>\n",
       "    <td></td>   <th>            Real</th>  <th>         Imaginary</th> <th>         Modulus</th>  <th>        Frequency</th>\n",
       "</tr>\n",
       "<tr>\n",
       "  <th>AR.1</th> <td>          -1.6530</td> <td>          -0.5475j</td> <td>           1.7413</td> <td>          -0.4491</td>\n",
       "</tr>\n",
       "<tr>\n",
       "  <th>AR.2</th> <td>          -1.6530</td> <td>          +0.5475j</td> <td>           1.7413</td> <td>           0.4491</td>\n",
       "</tr>\n",
       "<tr>\n",
       "  <th>AR.3</th> <td>          -0.1215</td> <td>          -1.4992j</td> <td>           1.5042</td> <td>          -0.2629</td>\n",
       "</tr>\n",
       "<tr>\n",
       "  <th>AR.4</th> <td>          -0.1215</td> <td>          +1.4992j</td> <td>           1.5042</td> <td>           0.2629</td>\n",
       "</tr>\n",
       "<tr>\n",
       "  <th>AR.5</th> <td>           1.2793</td> <td>          -0.9744j</td> <td>           1.6081</td> <td>          -0.1036</td>\n",
       "</tr>\n",
       "<tr>\n",
       "  <th>AR.6</th> <td>           1.2793</td> <td>          +0.9744j</td> <td>           1.6081</td> <td>           0.1036</td>\n",
       "</tr>\n",
       "<tr>\n",
       "  <th>AR.7</th> <td>           5.4366</td> <td>          -0.0000j</td> <td>           5.4366</td> <td>          -0.0000</td>\n",
       "</tr>\n",
       "</table>"
      ],
      "text/plain": [
       "<class 'statsmodels.iolib.summary.Summary'>\n",
       "\"\"\"\n",
       "                              ARMA Model Results                              \n",
       "==============================================================================\n",
       "Dep. Variable:                Returns   No. Observations:                 5020\n",
       "Model:                     ARMA(7, 0)   Log Likelihood               -7888.363\n",
       "Method:                       css-mle   S.D. of innovations              1.165\n",
       "Date:                Wed, 15 Dec 2021   AIC                          15794.726\n",
       "Time:                        09:41:46   BIC                          15853.416\n",
       "Sample:                    01-10-1994   HQIC                         15815.292\n",
       "                         - 04-05-2013                                         \n",
       "=================================================================================\n",
       "                    coef    std err          z      P>|z|      [0.025      0.975]\n",
       "---------------------------------------------------------------------------------\n",
       "const             0.0189      0.014      1.399      0.162      -0.008       0.045\n",
       "ar.L1.Returns    -0.0243      0.014     -1.724      0.085      -0.052       0.003\n",
       "ar.L2.Returns    -0.0523      0.014     -3.705      0.000      -0.080      -0.025\n",
       "ar.L3.Returns    -0.0844      0.014     -5.982      0.000      -0.112      -0.057\n",
       "ar.L4.Returns     0.0409      0.014      2.896      0.004       0.013       0.069\n",
       "ar.L5.Returns    -0.0599      0.014     -4.250      0.000      -0.088      -0.032\n",
       "ar.L6.Returns    -0.0461      0.014     -3.268      0.001      -0.074      -0.018\n",
       "ar.L7.Returns     0.0104      0.014      0.735      0.463      -0.017       0.038\n",
       "                                    Roots                                    \n",
       "=============================================================================\n",
       "                  Real          Imaginary           Modulus         Frequency\n",
       "-----------------------------------------------------------------------------\n",
       "AR.1           -1.6530           -0.5475j            1.7413           -0.4491\n",
       "AR.2           -1.6530           +0.5475j            1.7413            0.4491\n",
       "AR.3           -0.1215           -1.4992j            1.5042           -0.2629\n",
       "AR.4           -0.1215           +1.4992j            1.5042            0.2629\n",
       "AR.5            1.2793           -0.9744j            1.6081           -0.1036\n",
       "AR.6            1.2793           +0.9744j            1.6081            0.1036\n",
       "AR.7            5.4366           -0.0000j            5.4366           -0.0000\n",
       "-----------------------------------------------------------------------------\n",
       "\"\"\""
      ]
     },
     "execution_count": 93,
     "metadata": {},
     "output_type": "execute_result"
    }
   ],
   "source": [
    "model_ret_ar_7 = ARMA(df_train.Returns, order=(7,0))\n",
    "results_ret_ar_7 = model_ret_ar_7.fit()\n",
    "results_ret_ar_7.summary()"
   ]
  },
  {
   "cell_type": "code",
   "execution_count": 94,
   "id": "a7a84286",
   "metadata": {},
   "outputs": [
    {
     "data": {
      "text/plain": [
       "0.463"
      ]
     },
     "execution_count": 94,
     "metadata": {},
     "output_type": "execute_result"
    }
   ],
   "source": [
    "LLR_test(model_ret_ar_6,model_ret_ar_7)"
   ]
  },
  {
   "cell_type": "markdown",
   "id": "4bc5693d",
   "metadata": {},
   "source": [
    "Since we get a p value is greater than 0.05, so it suggests that the second model is statistically less significant than the first model."
   ]
  },
  {
   "cell_type": "markdown",
   "id": "8f106650",
   "metadata": {},
   "source": [
    "## Normalizing Data Values:-"
   ]
  },
  {
   "cell_type": "markdown",
   "id": "134a6dcd",
   "metadata": {},
   "source": [
    "It means that every value of the sample space is converted in terms of percentage of first time series value.\n"
   ]
  },
  {
   "cell_type": "code",
   "execution_count": 95,
   "id": "265eb0fc",
   "metadata": {},
   "outputs": [],
   "source": [
    "# benchmark is the value based upon which we will normalize the data.\n",
    "benchmark = df_train.market.iloc[0]"
   ]
  },
  {
   "cell_type": "code",
   "execution_count": 96,
   "id": "ad7f690f",
   "metadata": {
    "scrolled": true
   },
   "outputs": [
    {
     "data": {
      "text/html": [
       "<div>\n",
       "<style scoped>\n",
       "    .dataframe tbody tr th:only-of-type {\n",
       "        vertical-align: middle;\n",
       "    }\n",
       "\n",
       "    .dataframe tbody tr th {\n",
       "        vertical-align: top;\n",
       "    }\n",
       "\n",
       "    .dataframe thead th {\n",
       "        text-align: right;\n",
       "    }\n",
       "</style>\n",
       "<table border=\"1\" class=\"dataframe\">\n",
       "  <thead>\n",
       "    <tr style=\"text-align: right;\">\n",
       "      <th></th>\n",
       "      <th>spx</th>\n",
       "      <th>dax</th>\n",
       "      <th>ftse</th>\n",
       "      <th>nikkei</th>\n",
       "      <th>market</th>\n",
       "      <th>wn</th>\n",
       "      <th>rw</th>\n",
       "      <th>Returns</th>\n",
       "      <th>Norm</th>\n",
       "    </tr>\n",
       "    <tr>\n",
       "      <th>date</th>\n",
       "      <th></th>\n",
       "      <th></th>\n",
       "      <th></th>\n",
       "      <th></th>\n",
       "      <th></th>\n",
       "      <th></th>\n",
       "      <th></th>\n",
       "      <th></th>\n",
       "      <th></th>\n",
       "    </tr>\n",
       "  </thead>\n",
       "  <tbody>\n",
       "    <tr>\n",
       "      <th>1994-01-10</th>\n",
       "      <td>475.27</td>\n",
       "      <td>2225.00</td>\n",
       "      <td>3440.58</td>\n",
       "      <td>18443.44</td>\n",
       "      <td>475.27</td>\n",
       "      <td>1144.606969</td>\n",
       "      <td>1080.347860</td>\n",
       "      <td>-0.156704</td>\n",
       "      <td>100.000000</td>\n",
       "    </tr>\n",
       "    <tr>\n",
       "      <th>1994-01-11</th>\n",
       "      <td>474.13</td>\n",
       "      <td>2228.10</td>\n",
       "      <td>3413.77</td>\n",
       "      <td>18485.25</td>\n",
       "      <td>474.13</td>\n",
       "      <td>1026.262566</td>\n",
       "      <td>1082.095245</td>\n",
       "      <td>-0.779229</td>\n",
       "      <td>99.760136</td>\n",
       "    </tr>\n",
       "    <tr>\n",
       "      <th>1994-01-12</th>\n",
       "      <td>474.17</td>\n",
       "      <td>2182.06</td>\n",
       "      <td>3372.02</td>\n",
       "      <td>18793.88</td>\n",
       "      <td>474.17</td>\n",
       "      <td>1465.376065</td>\n",
       "      <td>1083.639265</td>\n",
       "      <td>-1.222988</td>\n",
       "      <td>99.768553</td>\n",
       "    </tr>\n",
       "  </tbody>\n",
       "</table>\n",
       "</div>"
      ],
      "text/plain": [
       "               spx      dax     ftse    nikkei  market           wn  \\\n",
       "date                                                                  \n",
       "1994-01-10  475.27  2225.00  3440.58  18443.44  475.27  1144.606969   \n",
       "1994-01-11  474.13  2228.10  3413.77  18485.25  474.13  1026.262566   \n",
       "1994-01-12  474.17  2182.06  3372.02  18793.88  474.17  1465.376065   \n",
       "\n",
       "                     rw   Returns        Norm  \n",
       "date                                           \n",
       "1994-01-10  1080.347860 -0.156704  100.000000  \n",
       "1994-01-11  1082.095245 -0.779229   99.760136  \n",
       "1994-01-12  1083.639265 -1.222988   99.768553  "
      ]
     },
     "execution_count": 96,
     "metadata": {},
     "output_type": "execute_result"
    }
   ],
   "source": [
    "df_train['Norm'] = df_train.market.div(benchmark).mul(100)\n",
    "df_train.head(3)"
   ]
  },
  {
   "cell_type": "code",
   "execution_count": 97,
   "id": "1f437bde",
   "metadata": {},
   "outputs": [
    {
     "data": {
      "text/plain": [
       "(-1.7396871077371274,\n",
       " 0.41078913382078763,\n",
       " 18,\n",
       " 5001,\n",
       " {'1%': -3.431658270286891,\n",
       "  '5%': -2.8621181140235223,\n",
       "  '10%': -2.5670777307913744},\n",
       " 24351.278699350325)"
      ]
     },
     "execution_count": 97,
     "metadata": {},
     "output_type": "execute_result"
    }
   ],
   "source": [
    "# checking the Normalized value for stationarity.\n",
    "sts.adfuller(df_train.Norm)"
   ]
  },
  {
   "cell_type": "markdown",
   "id": "9f153512",
   "metadata": {},
   "source": [
    "Since the test statistic is greater than the critical value. We conclude that normalization doesn't impact the stationarity of data."
   ]
  },
  {
   "cell_type": "markdown",
   "id": "9200ab51",
   "metadata": {},
   "source": [
    "## Normalizing Returns"
   ]
  },
  {
   "cell_type": "code",
   "execution_count": 98,
   "id": "4c33cdcb",
   "metadata": {},
   "outputs": [
    {
     "data": {
      "text/html": [
       "<div>\n",
       "<style scoped>\n",
       "    .dataframe tbody tr th:only-of-type {\n",
       "        vertical-align: middle;\n",
       "    }\n",
       "\n",
       "    .dataframe tbody tr th {\n",
       "        vertical-align: top;\n",
       "    }\n",
       "\n",
       "    .dataframe thead th {\n",
       "        text-align: right;\n",
       "    }\n",
       "</style>\n",
       "<table border=\"1\" class=\"dataframe\">\n",
       "  <thead>\n",
       "    <tr style=\"text-align: right;\">\n",
       "      <th></th>\n",
       "      <th>spx</th>\n",
       "      <th>dax</th>\n",
       "      <th>ftse</th>\n",
       "      <th>nikkei</th>\n",
       "      <th>market</th>\n",
       "      <th>wn</th>\n",
       "      <th>rw</th>\n",
       "      <th>Returns</th>\n",
       "      <th>Norm</th>\n",
       "      <th>Norm_ret</th>\n",
       "    </tr>\n",
       "    <tr>\n",
       "      <th>date</th>\n",
       "      <th></th>\n",
       "      <th></th>\n",
       "      <th></th>\n",
       "      <th></th>\n",
       "      <th></th>\n",
       "      <th></th>\n",
       "      <th></th>\n",
       "      <th></th>\n",
       "      <th></th>\n",
       "      <th></th>\n",
       "    </tr>\n",
       "  </thead>\n",
       "  <tbody>\n",
       "    <tr>\n",
       "      <th>1994-01-10</th>\n",
       "      <td>475.27</td>\n",
       "      <td>2225.00</td>\n",
       "      <td>3440.58</td>\n",
       "      <td>18443.44</td>\n",
       "      <td>475.27</td>\n",
       "      <td>1144.606969</td>\n",
       "      <td>1080.347860</td>\n",
       "      <td>-0.156704</td>\n",
       "      <td>100.000000</td>\n",
       "      <td>-100.000000</td>\n",
       "    </tr>\n",
       "    <tr>\n",
       "      <th>1994-01-11</th>\n",
       "      <td>474.13</td>\n",
       "      <td>2228.10</td>\n",
       "      <td>3413.77</td>\n",
       "      <td>18485.25</td>\n",
       "      <td>474.13</td>\n",
       "      <td>1026.262566</td>\n",
       "      <td>1082.095245</td>\n",
       "      <td>-0.779229</td>\n",
       "      <td>99.760136</td>\n",
       "      <td>-497.260711</td>\n",
       "    </tr>\n",
       "    <tr>\n",
       "      <th>1994-01-12</th>\n",
       "      <td>474.17</td>\n",
       "      <td>2182.06</td>\n",
       "      <td>3372.02</td>\n",
       "      <td>18793.88</td>\n",
       "      <td>474.17</td>\n",
       "      <td>1465.376065</td>\n",
       "      <td>1083.639265</td>\n",
       "      <td>-1.222988</td>\n",
       "      <td>99.768553</td>\n",
       "      <td>-780.443046</td>\n",
       "    </tr>\n",
       "    <tr>\n",
       "      <th>1994-01-13</th>\n",
       "      <td>472.47</td>\n",
       "      <td>2142.37</td>\n",
       "      <td>3360.01</td>\n",
       "      <td>18577.26</td>\n",
       "      <td>472.47</td>\n",
       "      <td>906.796938</td>\n",
       "      <td>1067.146255</td>\n",
       "      <td>-0.356166</td>\n",
       "      <td>99.410861</td>\n",
       "      <td>-227.285567</td>\n",
       "    </tr>\n",
       "    <tr>\n",
       "      <th>1994-01-14</th>\n",
       "      <td>474.91</td>\n",
       "      <td>2151.05</td>\n",
       "      <td>3400.56</td>\n",
       "      <td>18973.70</td>\n",
       "      <td>474.91</td>\n",
       "      <td>423.374057</td>\n",
       "      <td>1080.129720</td>\n",
       "      <td>1.206842</td>\n",
       "      <td>99.924254</td>\n",
       "      <td>770.139292</td>\n",
       "    </tr>\n",
       "  </tbody>\n",
       "</table>\n",
       "</div>"
      ],
      "text/plain": [
       "               spx      dax     ftse    nikkei  market           wn  \\\n",
       "date                                                                  \n",
       "1994-01-10  475.27  2225.00  3440.58  18443.44  475.27  1144.606969   \n",
       "1994-01-11  474.13  2228.10  3413.77  18485.25  474.13  1026.262566   \n",
       "1994-01-12  474.17  2182.06  3372.02  18793.88  474.17  1465.376065   \n",
       "1994-01-13  472.47  2142.37  3360.01  18577.26  472.47   906.796938   \n",
       "1994-01-14  474.91  2151.05  3400.56  18973.70  474.91   423.374057   \n",
       "\n",
       "                     rw   Returns        Norm    Norm_ret  \n",
       "date                                                       \n",
       "1994-01-10  1080.347860 -0.156704  100.000000 -100.000000  \n",
       "1994-01-11  1082.095245 -0.779229   99.760136 -497.260711  \n",
       "1994-01-12  1083.639265 -1.222988   99.768553 -780.443046  \n",
       "1994-01-13  1067.146255 -0.356166   99.410861 -227.285567  \n",
       "1994-01-14  1080.129720  1.206842   99.924254  770.139292  "
      ]
     },
     "execution_count": 98,
     "metadata": {},
     "output_type": "execute_result"
    }
   ],
   "source": [
    "benchmark_ret = df_train.Returns.iloc[0]\n",
    "\n",
    "df_train['Norm_ret'] = df_train.Returns.div(benchmark_ret).mul(100).mul(-1)\n",
    "df_train.head(5)"
   ]
  },
  {
   "cell_type": "code",
   "execution_count": 99,
   "id": "733908d7",
   "metadata": {},
   "outputs": [
    {
     "data": {
      "text/plain": [
       "(-12.78693095722737,\n",
       " 7.213255047801504e-24,\n",
       " 32,\n",
       " 4987,\n",
       " {'1%': -3.431661944885779,\n",
       "  '5%': -2.8621197374408225,\n",
       "  '10%': -2.5670785949998973},\n",
       " 80118.5703598977)"
      ]
     },
     "execution_count": 99,
     "metadata": {},
     "output_type": "execute_result"
    }
   ],
   "source": [
    "# checking the Normalized value for stationarity.\n",
    "sts.adfuller(df_train.Norm_ret)"
   ]
  },
  {
   "cell_type": "markdown",
   "id": "6dd6943c",
   "metadata": {},
   "source": [
    "Since the test statistic is less than the critical value. We conclude that normalization doesn't impact the stationarity of data since the stationary return data is still stationary even after applying normatlization upon this column."
   ]
  },
  {
   "cell_type": "markdown",
   "id": "0345675b",
   "metadata": {},
   "source": [
    "## Features of Normalized Data:-\n",
    "\n",
    "### 1. Normalization doesn't impact stationarity of data.\n",
    "### 2. Normalization doesn't impact the model coefficients (only changes constants) and thus it doesn't impact the model selection process."
   ]
  },
  {
   "cell_type": "markdown",
   "id": "8ddfc9e2",
   "metadata": {},
   "source": [
    "### Why do we plot the ACF and/or PACF of the residuals from a fitted model?\n",
    "\n",
    "### If the residuals are non-random(not white noise), then there s a pattern that needs to be accounted for."
   ]
  },
  {
   "cell_type": "code",
   "execution_count": null,
   "id": "8800dacc",
   "metadata": {},
   "outputs": [],
   "source": []
  },
  {
   "cell_type": "markdown",
   "id": "05d982a6",
   "metadata": {},
   "source": [
    "## Moving Average Model:- \n",
    "\n",
    "While an autoregressive model needs time to adjust from a big unexpected shock because it often relies on past data regardless of how close its predictions were to the actual data.\n",
    "\n",
    "Here comes Moving Average models which are a form of self correcting model which takes into account past residuals and handles unexpected shocks more easily as it immediately adapts to errors. Absorption of these stocks allows the mean to move accordingly.\n",
    "\n",
    "These models do extremely well to deal with random walk series.\n"
   ]
  },
  {
   "cell_type": "markdown",
   "id": "f99846d4",
   "metadata": {},
   "source": [
    "# $ r_t = c + \\theta_1 \\varepsilon_{t-1} + \\varepsilon_t$\n",
    "\n",
    "### $r_t$ - The values of \"r\" in the current period\n",
    "\n",
    "### $\\theta_1$ - A numeric coefficient for the value associated with the first lag.\n",
    "\n",
    "### $\\varepsilon_{t-1}$ - Residuals for the past period.\n",
    "\n",
    "### $\\varepsilon_t$ - Residuals for the current period."
   ]
  },
  {
   "cell_type": "markdown",
   "id": "06536aa7",
   "metadata": {},
   "source": [
    "### How is the MA model different from the AR model?\n",
    "\n",
    "### The MA model contains past residuals, while the AR model includes past values.\n"
   ]
  },
  {
   "cell_type": "code",
   "execution_count": null,
   "id": "45fb7109",
   "metadata": {},
   "outputs": [],
   "source": []
  }
 ],
 "metadata": {
  "kernelspec": {
   "display_name": "Python 3",
   "language": "python",
   "name": "python3"
  },
  "language_info": {
   "codemirror_mode": {
    "name": "ipython",
    "version": 3
   },
   "file_extension": ".py",
   "mimetype": "text/x-python",
   "name": "python",
   "nbconvert_exporter": "python",
   "pygments_lexer": "ipython3",
   "version": "3.8.8"
  }
 },
 "nbformat": 4,
 "nbformat_minor": 5
}
